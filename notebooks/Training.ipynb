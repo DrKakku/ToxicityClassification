{
 "cells": [
  {
   "cell_type": "markdown",
   "metadata": {},
   "source": [
    "## Import Libraries"
   ]
  },
  {
   "cell_type": "code",
   "execution_count": 1,
   "metadata": {},
   "outputs": [],
   "source": [
    "import pandas as pd\n",
    "import numpy as np\n",
    "import matplotlib.pyplot as plt\n",
    "\n",
    "from nltk.tokenize import word_tokenize\n",
    "from nltk.corpus import stopwords\n",
    "import re\n",
    "import string\n",
    "\n",
    "from sklearn.model_selection import train_test_split\n",
    "\n",
    "import tensorflow as tf"
   ]
  },
  {
   "cell_type": "markdown",
   "metadata": {},
   "source": [
    "## Define Functions"
   ]
  },
  {
   "cell_type": "code",
   "execution_count": 2,
   "metadata": {},
   "outputs": [],
   "source": [
    "def getGloveCorpus(dims=300):\n",
    "    # Set path and load corpus\n",
    "    path = '../data/embedings/'\n",
    "    filename = f'glove.6B.{dims}d.txt'\n",
    "    f = open(path+filename, 'r', encoding='latin2')\n",
    "    vec_txt = f.read()\n",
    "\n",
    "    vec_data = {}\n",
    "    words = vec_txt.split('\\n')\n",
    "    for word in words:\n",
    "        vec = word.split()\n",
    "        if len(vec) == dims+1:\n",
    "            vec_data[vec[0]] = np.array([np.float16(x) for x in vec[1:]])\n",
    "    vec = pd.DataFrame(vec_data, columns=None).transpose()\n",
    "    return vec\n",
    "\n",
    "\n",
    "def cleanText(textData):\n",
    "    clean = []\n",
    "    stops = set(stopwords.words('english'))\n",
    "    \n",
    "    for text in textData:\n",
    "        # convert to lowercase\n",
    "        cleanText = text.strip()\n",
    "        cleanText = cleanText.lower()\n",
    "        cleanText = word_tokenize(cleanText)\n",
    "        cleanText = [word for word in cleanText if word not in stops]\n",
    "        cleanText = \" \".join(cleanText)\n",
    "        cleanText = cleanText.replace('\\n', \" \")\n",
    "        cleanText = re.sub(r\"(?:^|\\W)utc(?:$|\\W)\", '', cleanText)\n",
    "        cleanText = re.sub(r'http[s]*://[A-Za-z0-9:./?=]*', 'url', cleanText)\n",
    "        cleanText = re.sub(r\"[^a-z\\s]\", '', cleanText)\n",
    "        cleanText = re.sub(r'[\\s]+', \" \", cleanText)\n",
    "        clean.append(cleanText)\n",
    "\n",
    "    return clean\n",
    "\n",
    "def getGloveVec(word, vec, dims=300):\n",
    "    vc = np.zeros(dims)\n",
    "    try:\n",
    "        vc = np.array(vec.loc[word])\n",
    "    except:\n",
    "        vc = np.zeros(dims)\n",
    "    return vc\n",
    "\n",
    "\n",
    "def getDocVec(sentence, vec, dims):\n",
    "    tokens = word_tokenize(sentence)\n",
    "    vecs = np.zeros(dims)\n",
    "    for word in tokens:\n",
    "        vecs += getGloveVec(word, vec, dims)\n",
    "    return vecs\n",
    "\n",
    "\n",
    "def getVecForm(X, Y, dims, vec, reshaping=None):\n",
    "    '''\n",
    "    X - Array of sentences.\n",
    "    Y - Array of output class (numeric).\n",
    "    dims - Vector dimensions (needed to pad correctly).\n",
    "    '''\n",
    "    vecList = []\n",
    "    for i in X:\n",
    "        vecList.append(getDocVec(i, vec, dims))\n",
    "    X = np.asarray(vecList).astype(np.float16)\n",
    "    Y = np.asarray(Y).astype(np.float16)\n",
    "    if reshaping != None:\n",
    "        X = np.reshape(X, reshaping)\n",
    "    return X, Y\n"
   ]
  },
  {
   "cell_type": "markdown",
   "metadata": {},
   "source": [
    "## Set Configuration"
   ]
  },
  {
   "cell_type": "code",
   "execution_count": 3,
   "metadata": {},
   "outputs": [],
   "source": [
    "PATH = '../data/'\n",
    "DIMS = 300\n",
    "MAXVECLEN = 40\n",
    "DATASET = 'jigsaw-toxic-comment-classification-challenge/train.csv'\n",
    "TEXT = 'comment_text'\n",
    "CLASS = ['toxic', 'severe_toxic', 'obscene', 'threat', 'insult', 'identity_hate']\n",
    "EPOCH = 15\n",
    "SPLIT = 0.25"
   ]
  },
  {
   "cell_type": "markdown",
   "metadata": {},
   "source": [
    "## Read GloVe Data"
   ]
  },
  {
   "cell_type": "code",
   "execution_count": 4,
   "metadata": {},
   "outputs": [
    {
     "data": {
      "text/html": [
       "<div>\n",
       "<style scoped>\n",
       "    .dataframe tbody tr th:only-of-type {\n",
       "        vertical-align: middle;\n",
       "    }\n",
       "\n",
       "    .dataframe tbody tr th {\n",
       "        vertical-align: top;\n",
       "    }\n",
       "\n",
       "    .dataframe thead th {\n",
       "        text-align: right;\n",
       "    }\n",
       "</style>\n",
       "<table border=\"1\" class=\"dataframe\">\n",
       "  <thead>\n",
       "    <tr style=\"text-align: right;\">\n",
       "      <th></th>\n",
       "      <th>0</th>\n",
       "      <th>1</th>\n",
       "      <th>2</th>\n",
       "      <th>3</th>\n",
       "      <th>4</th>\n",
       "      <th>5</th>\n",
       "      <th>6</th>\n",
       "      <th>7</th>\n",
       "      <th>8</th>\n",
       "      <th>9</th>\n",
       "      <th>...</th>\n",
       "      <th>290</th>\n",
       "      <th>291</th>\n",
       "      <th>292</th>\n",
       "      <th>293</th>\n",
       "      <th>294</th>\n",
       "      <th>295</th>\n",
       "      <th>296</th>\n",
       "      <th>297</th>\n",
       "      <th>298</th>\n",
       "      <th>299</th>\n",
       "    </tr>\n",
       "  </thead>\n",
       "  <tbody>\n",
       "    <tr>\n",
       "      <th>the</th>\n",
       "      <td>0.046570</td>\n",
       "      <td>0.213135</td>\n",
       "      <td>-0.007435</td>\n",
       "      <td>-0.458496</td>\n",
       "      <td>-0.035645</td>\n",
       "      <td>0.236450</td>\n",
       "      <td>-0.288330</td>\n",
       "      <td>0.215210</td>\n",
       "      <td>-0.134888</td>\n",
       "      <td>-1.641602</td>\n",
       "      <td>...</td>\n",
       "      <td>-0.013062</td>\n",
       "      <td>-0.296875</td>\n",
       "      <td>-0.079895</td>\n",
       "      <td>0.194946</td>\n",
       "      <td>0.031555</td>\n",
       "      <td>0.285156</td>\n",
       "      <td>-0.087463</td>\n",
       "      <td>0.009064</td>\n",
       "      <td>-0.209839</td>\n",
       "      <td>0.053925</td>\n",
       "    </tr>\n",
       "    <tr>\n",
       "      <th>,</th>\n",
       "      <td>-0.255371</td>\n",
       "      <td>-0.257324</td>\n",
       "      <td>0.131714</td>\n",
       "      <td>-0.042694</td>\n",
       "      <td>0.218140</td>\n",
       "      <td>-0.022705</td>\n",
       "      <td>-0.178589</td>\n",
       "      <td>0.107544</td>\n",
       "      <td>0.058929</td>\n",
       "      <td>-1.385742</td>\n",
       "      <td>...</td>\n",
       "      <td>0.075989</td>\n",
       "      <td>-0.014359</td>\n",
       "      <td>-0.073792</td>\n",
       "      <td>0.221802</td>\n",
       "      <td>0.146484</td>\n",
       "      <td>0.566895</td>\n",
       "      <td>0.053314</td>\n",
       "      <td>-0.232910</td>\n",
       "      <td>-0.122253</td>\n",
       "      <td>0.354980</td>\n",
       "    </tr>\n",
       "    <tr>\n",
       "      <th>.</th>\n",
       "      <td>-0.125610</td>\n",
       "      <td>0.013634</td>\n",
       "      <td>0.103088</td>\n",
       "      <td>-0.101257</td>\n",
       "      <td>0.098145</td>\n",
       "      <td>0.136230</td>\n",
       "      <td>-0.107239</td>\n",
       "      <td>0.236938</td>\n",
       "      <td>0.328613</td>\n",
       "      <td>-1.678711</td>\n",
       "      <td>...</td>\n",
       "      <td>0.060150</td>\n",
       "      <td>-0.156250</td>\n",
       "      <td>-0.119507</td>\n",
       "      <td>0.234497</td>\n",
       "      <td>0.081360</td>\n",
       "      <td>0.246216</td>\n",
       "      <td>-0.152466</td>\n",
       "      <td>-0.342285</td>\n",
       "      <td>-0.022400</td>\n",
       "      <td>0.136841</td>\n",
       "    </tr>\n",
       "    <tr>\n",
       "      <th>of</th>\n",
       "      <td>-0.076965</td>\n",
       "      <td>-0.021210</td>\n",
       "      <td>0.212769</td>\n",
       "      <td>-0.722168</td>\n",
       "      <td>-0.139893</td>\n",
       "      <td>-0.122314</td>\n",
       "      <td>-0.175171</td>\n",
       "      <td>0.121399</td>\n",
       "      <td>-0.070862</td>\n",
       "      <td>-1.572266</td>\n",
       "      <td>...</td>\n",
       "      <td>-0.366699</td>\n",
       "      <td>-0.385986</td>\n",
       "      <td>0.302979</td>\n",
       "      <td>0.015747</td>\n",
       "      <td>0.340332</td>\n",
       "      <td>0.478516</td>\n",
       "      <td>0.068604</td>\n",
       "      <td>0.183472</td>\n",
       "      <td>-0.291748</td>\n",
       "      <td>-0.046539</td>\n",
       "    </tr>\n",
       "    <tr>\n",
       "      <th>to</th>\n",
       "      <td>-0.257568</td>\n",
       "      <td>-0.057129</td>\n",
       "      <td>-0.671875</td>\n",
       "      <td>-0.380859</td>\n",
       "      <td>-0.364258</td>\n",
       "      <td>-0.082153</td>\n",
       "      <td>-0.010956</td>\n",
       "      <td>-0.082031</td>\n",
       "      <td>0.460449</td>\n",
       "      <td>-1.847656</td>\n",
       "      <td>...</td>\n",
       "      <td>-0.012810</td>\n",
       "      <td>-0.597168</td>\n",
       "      <td>0.317383</td>\n",
       "      <td>-0.252686</td>\n",
       "      <td>0.543945</td>\n",
       "      <td>0.062988</td>\n",
       "      <td>-0.049805</td>\n",
       "      <td>-0.160400</td>\n",
       "      <td>0.046753</td>\n",
       "      <td>-0.070618</td>\n",
       "    </tr>\n",
       "    <tr>\n",
       "      <th>...</th>\n",
       "      <td>...</td>\n",
       "      <td>...</td>\n",
       "      <td>...</td>\n",
       "      <td>...</td>\n",
       "      <td>...</td>\n",
       "      <td>...</td>\n",
       "      <td>...</td>\n",
       "      <td>...</td>\n",
       "      <td>...</td>\n",
       "      <td>...</td>\n",
       "      <td>...</td>\n",
       "      <td>...</td>\n",
       "      <td>...</td>\n",
       "      <td>...</td>\n",
       "      <td>...</td>\n",
       "      <td>...</td>\n",
       "      <td>...</td>\n",
       "      <td>...</td>\n",
       "      <td>...</td>\n",
       "      <td>...</td>\n",
       "      <td>...</td>\n",
       "    </tr>\n",
       "    <tr>\n",
       "      <th>chanty</th>\n",
       "      <td>0.392578</td>\n",
       "      <td>-0.022507</td>\n",
       "      <td>0.304688</td>\n",
       "      <td>0.187988</td>\n",
       "      <td>0.141235</td>\n",
       "      <td>0.724121</td>\n",
       "      <td>-0.257812</td>\n",
       "      <td>-0.137329</td>\n",
       "      <td>-0.016525</td>\n",
       "      <td>0.596191</td>\n",
       "      <td>...</td>\n",
       "      <td>-0.182983</td>\n",
       "      <td>0.406738</td>\n",
       "      <td>-0.343750</td>\n",
       "      <td>-0.270508</td>\n",
       "      <td>-0.593750</td>\n",
       "      <td>0.016449</td>\n",
       "      <td>0.140747</td>\n",
       "      <td>0.463867</td>\n",
       "      <td>-0.369629</td>\n",
       "      <td>-0.287109</td>\n",
       "    </tr>\n",
       "    <tr>\n",
       "      <th>kronik</th>\n",
       "      <td>0.136841</td>\n",
       "      <td>-0.139038</td>\n",
       "      <td>-0.360840</td>\n",
       "      <td>0.079834</td>\n",
       "      <td>0.321533</td>\n",
       "      <td>0.263916</td>\n",
       "      <td>-0.109924</td>\n",
       "      <td>0.044434</td>\n",
       "      <td>0.083862</td>\n",
       "      <td>0.791504</td>\n",
       "      <td>...</td>\n",
       "      <td>0.036407</td>\n",
       "      <td>-0.036835</td>\n",
       "      <td>-0.348145</td>\n",
       "      <td>0.064758</td>\n",
       "      <td>-0.000577</td>\n",
       "      <td>-0.133789</td>\n",
       "      <td>0.428955</td>\n",
       "      <td>-0.023315</td>\n",
       "      <td>0.410156</td>\n",
       "      <td>-0.393066</td>\n",
       "    </tr>\n",
       "    <tr>\n",
       "      <th>rolonda</th>\n",
       "      <td>0.075684</td>\n",
       "      <td>-0.040497</td>\n",
       "      <td>0.183472</td>\n",
       "      <td>0.512207</td>\n",
       "      <td>-0.228516</td>\n",
       "      <td>0.838867</td>\n",
       "      <td>0.178833</td>\n",
       "      <td>-0.712891</td>\n",
       "      <td>0.326904</td>\n",
       "      <td>0.695312</td>\n",
       "      <td>...</td>\n",
       "      <td>-0.388428</td>\n",
       "      <td>0.545898</td>\n",
       "      <td>-0.035065</td>\n",
       "      <td>-0.184326</td>\n",
       "      <td>-0.197021</td>\n",
       "      <td>-0.350098</td>\n",
       "      <td>0.160645</td>\n",
       "      <td>0.218384</td>\n",
       "      <td>0.309570</td>\n",
       "      <td>0.437500</td>\n",
       "    </tr>\n",
       "    <tr>\n",
       "      <th>zsombor</th>\n",
       "      <td>0.814453</td>\n",
       "      <td>-0.362305</td>\n",
       "      <td>0.311768</td>\n",
       "      <td>0.813965</td>\n",
       "      <td>0.188477</td>\n",
       "      <td>-0.313721</td>\n",
       "      <td>0.827637</td>\n",
       "      <td>0.296631</td>\n",
       "      <td>-0.085510</td>\n",
       "      <td>0.476074</td>\n",
       "      <td>...</td>\n",
       "      <td>0.130859</td>\n",
       "      <td>0.106140</td>\n",
       "      <td>-0.408203</td>\n",
       "      <td>0.313477</td>\n",
       "      <td>-0.430176</td>\n",
       "      <td>0.069824</td>\n",
       "      <td>-0.207642</td>\n",
       "      <td>0.075500</td>\n",
       "      <td>0.284180</td>\n",
       "      <td>-0.175537</td>\n",
       "    </tr>\n",
       "    <tr>\n",
       "      <th>sandberger</th>\n",
       "      <td>0.429199</td>\n",
       "      <td>-0.296875</td>\n",
       "      <td>0.150146</td>\n",
       "      <td>0.245239</td>\n",
       "      <td>-0.003521</td>\n",
       "      <td>-0.057709</td>\n",
       "      <td>0.140869</td>\n",
       "      <td>-0.222290</td>\n",
       "      <td>0.221191</td>\n",
       "      <td>0.767090</td>\n",
       "      <td>...</td>\n",
       "      <td>0.128174</td>\n",
       "      <td>0.097534</td>\n",
       "      <td>-0.130981</td>\n",
       "      <td>-0.142822</td>\n",
       "      <td>-0.175415</td>\n",
       "      <td>-0.168945</td>\n",
       "      <td>-0.022507</td>\n",
       "      <td>0.289795</td>\n",
       "      <td>0.326172</td>\n",
       "      <td>-0.059052</td>\n",
       "    </tr>\n",
       "  </tbody>\n",
       "</table>\n",
       "<p>399883 rows × 300 columns</p>\n",
       "</div>"
      ],
      "text/plain": [
       "                 0         1         2         3         4         5    \\\n",
       "the         0.046570  0.213135 -0.007435 -0.458496 -0.035645  0.236450   \n",
       ",          -0.255371 -0.257324  0.131714 -0.042694  0.218140 -0.022705   \n",
       ".          -0.125610  0.013634  0.103088 -0.101257  0.098145  0.136230   \n",
       "of         -0.076965 -0.021210  0.212769 -0.722168 -0.139893 -0.122314   \n",
       "to         -0.257568 -0.057129 -0.671875 -0.380859 -0.364258 -0.082153   \n",
       "...              ...       ...       ...       ...       ...       ...   \n",
       "chanty      0.392578 -0.022507  0.304688  0.187988  0.141235  0.724121   \n",
       "kronik      0.136841 -0.139038 -0.360840  0.079834  0.321533  0.263916   \n",
       "rolonda     0.075684 -0.040497  0.183472  0.512207 -0.228516  0.838867   \n",
       "zsombor     0.814453 -0.362305  0.311768  0.813965  0.188477 -0.313721   \n",
       "sandberger  0.429199 -0.296875  0.150146  0.245239 -0.003521 -0.057709   \n",
       "\n",
       "                 6         7         8         9    ...       290       291  \\\n",
       "the        -0.288330  0.215210 -0.134888 -1.641602  ... -0.013062 -0.296875   \n",
       ",          -0.178589  0.107544  0.058929 -1.385742  ...  0.075989 -0.014359   \n",
       ".          -0.107239  0.236938  0.328613 -1.678711  ...  0.060150 -0.156250   \n",
       "of         -0.175171  0.121399 -0.070862 -1.572266  ... -0.366699 -0.385986   \n",
       "to         -0.010956 -0.082031  0.460449 -1.847656  ... -0.012810 -0.597168   \n",
       "...              ...       ...       ...       ...  ...       ...       ...   \n",
       "chanty     -0.257812 -0.137329 -0.016525  0.596191  ... -0.182983  0.406738   \n",
       "kronik     -0.109924  0.044434  0.083862  0.791504  ...  0.036407 -0.036835   \n",
       "rolonda     0.178833 -0.712891  0.326904  0.695312  ... -0.388428  0.545898   \n",
       "zsombor     0.827637  0.296631 -0.085510  0.476074  ...  0.130859  0.106140   \n",
       "sandberger  0.140869 -0.222290  0.221191  0.767090  ...  0.128174  0.097534   \n",
       "\n",
       "                 292       293       294       295       296       297  \\\n",
       "the        -0.079895  0.194946  0.031555  0.285156 -0.087463  0.009064   \n",
       ",          -0.073792  0.221802  0.146484  0.566895  0.053314 -0.232910   \n",
       ".          -0.119507  0.234497  0.081360  0.246216 -0.152466 -0.342285   \n",
       "of          0.302979  0.015747  0.340332  0.478516  0.068604  0.183472   \n",
       "to          0.317383 -0.252686  0.543945  0.062988 -0.049805 -0.160400   \n",
       "...              ...       ...       ...       ...       ...       ...   \n",
       "chanty     -0.343750 -0.270508 -0.593750  0.016449  0.140747  0.463867   \n",
       "kronik     -0.348145  0.064758 -0.000577 -0.133789  0.428955 -0.023315   \n",
       "rolonda    -0.035065 -0.184326 -0.197021 -0.350098  0.160645  0.218384   \n",
       "zsombor    -0.408203  0.313477 -0.430176  0.069824 -0.207642  0.075500   \n",
       "sandberger -0.130981 -0.142822 -0.175415 -0.168945 -0.022507  0.289795   \n",
       "\n",
       "                 298       299  \n",
       "the        -0.209839  0.053925  \n",
       ",          -0.122253  0.354980  \n",
       ".          -0.022400  0.136841  \n",
       "of         -0.291748 -0.046539  \n",
       "to          0.046753 -0.070618  \n",
       "...              ...       ...  \n",
       "chanty     -0.369629 -0.287109  \n",
       "kronik      0.410156 -0.393066  \n",
       "rolonda     0.309570  0.437500  \n",
       "zsombor     0.284180 -0.175537  \n",
       "sandberger  0.326172 -0.059052  \n",
       "\n",
       "[399883 rows x 300 columns]"
      ]
     },
     "execution_count": 4,
     "metadata": {},
     "output_type": "execute_result"
    }
   ],
   "source": [
    "VEC = getGloveCorpus(dims=DIMS)\n",
    "VEC"
   ]
  },
  {
   "cell_type": "markdown",
   "metadata": {},
   "source": [
    "## Import Dataset"
   ]
  },
  {
   "cell_type": "code",
   "execution_count": 5,
   "metadata": {},
   "outputs": [
    {
     "data": {
      "text/html": [
       "<div>\n",
       "<style scoped>\n",
       "    .dataframe tbody tr th:only-of-type {\n",
       "        vertical-align: middle;\n",
       "    }\n",
       "\n",
       "    .dataframe tbody tr th {\n",
       "        vertical-align: top;\n",
       "    }\n",
       "\n",
       "    .dataframe thead th {\n",
       "        text-align: right;\n",
       "    }\n",
       "</style>\n",
       "<table border=\"1\" class=\"dataframe\">\n",
       "  <thead>\n",
       "    <tr style=\"text-align: right;\">\n",
       "      <th></th>\n",
       "      <th>comment_text</th>\n",
       "      <th>toxic</th>\n",
       "      <th>severe_toxic</th>\n",
       "      <th>obscene</th>\n",
       "      <th>threat</th>\n",
       "      <th>insult</th>\n",
       "      <th>identity_hate</th>\n",
       "    </tr>\n",
       "  </thead>\n",
       "  <tbody>\n",
       "    <tr>\n",
       "      <th>0</th>\n",
       "      <td>Explanation\\nWhy the edits made under my usern...</td>\n",
       "      <td>0</td>\n",
       "      <td>0</td>\n",
       "      <td>0</td>\n",
       "      <td>0</td>\n",
       "      <td>0</td>\n",
       "      <td>0</td>\n",
       "    </tr>\n",
       "    <tr>\n",
       "      <th>1</th>\n",
       "      <td>D'aww! He matches this background colour I'm s...</td>\n",
       "      <td>0</td>\n",
       "      <td>0</td>\n",
       "      <td>0</td>\n",
       "      <td>0</td>\n",
       "      <td>0</td>\n",
       "      <td>0</td>\n",
       "    </tr>\n",
       "    <tr>\n",
       "      <th>2</th>\n",
       "      <td>Hey man, I'm really not trying to edit war. It...</td>\n",
       "      <td>0</td>\n",
       "      <td>0</td>\n",
       "      <td>0</td>\n",
       "      <td>0</td>\n",
       "      <td>0</td>\n",
       "      <td>0</td>\n",
       "    </tr>\n",
       "    <tr>\n",
       "      <th>3</th>\n",
       "      <td>\"\\nMore\\nI can't make any real suggestions on ...</td>\n",
       "      <td>0</td>\n",
       "      <td>0</td>\n",
       "      <td>0</td>\n",
       "      <td>0</td>\n",
       "      <td>0</td>\n",
       "      <td>0</td>\n",
       "    </tr>\n",
       "    <tr>\n",
       "      <th>4</th>\n",
       "      <td>You, sir, are my hero. Any chance you remember...</td>\n",
       "      <td>0</td>\n",
       "      <td>0</td>\n",
       "      <td>0</td>\n",
       "      <td>0</td>\n",
       "      <td>0</td>\n",
       "      <td>0</td>\n",
       "    </tr>\n",
       "    <tr>\n",
       "      <th>...</th>\n",
       "      <td>...</td>\n",
       "      <td>...</td>\n",
       "      <td>...</td>\n",
       "      <td>...</td>\n",
       "      <td>...</td>\n",
       "      <td>...</td>\n",
       "      <td>...</td>\n",
       "    </tr>\n",
       "    <tr>\n",
       "      <th>159566</th>\n",
       "      <td>\":::::And for the second time of asking, when ...</td>\n",
       "      <td>0</td>\n",
       "      <td>0</td>\n",
       "      <td>0</td>\n",
       "      <td>0</td>\n",
       "      <td>0</td>\n",
       "      <td>0</td>\n",
       "    </tr>\n",
       "    <tr>\n",
       "      <th>159567</th>\n",
       "      <td>You should be ashamed of yourself \\n\\nThat is ...</td>\n",
       "      <td>0</td>\n",
       "      <td>0</td>\n",
       "      <td>0</td>\n",
       "      <td>0</td>\n",
       "      <td>0</td>\n",
       "      <td>0</td>\n",
       "    </tr>\n",
       "    <tr>\n",
       "      <th>159568</th>\n",
       "      <td>Spitzer \\n\\nUmm, theres no actual article for ...</td>\n",
       "      <td>0</td>\n",
       "      <td>0</td>\n",
       "      <td>0</td>\n",
       "      <td>0</td>\n",
       "      <td>0</td>\n",
       "      <td>0</td>\n",
       "    </tr>\n",
       "    <tr>\n",
       "      <th>159569</th>\n",
       "      <td>And it looks like it was actually you who put ...</td>\n",
       "      <td>0</td>\n",
       "      <td>0</td>\n",
       "      <td>0</td>\n",
       "      <td>0</td>\n",
       "      <td>0</td>\n",
       "      <td>0</td>\n",
       "    </tr>\n",
       "    <tr>\n",
       "      <th>159570</th>\n",
       "      <td>\"\\nAnd ... I really don't think you understand...</td>\n",
       "      <td>0</td>\n",
       "      <td>0</td>\n",
       "      <td>0</td>\n",
       "      <td>0</td>\n",
       "      <td>0</td>\n",
       "      <td>0</td>\n",
       "    </tr>\n",
       "  </tbody>\n",
       "</table>\n",
       "<p>159571 rows × 7 columns</p>\n",
       "</div>"
      ],
      "text/plain": [
       "                                             comment_text  toxic  \\\n",
       "0       Explanation\\nWhy the edits made under my usern...      0   \n",
       "1       D'aww! He matches this background colour I'm s...      0   \n",
       "2       Hey man, I'm really not trying to edit war. It...      0   \n",
       "3       \"\\nMore\\nI can't make any real suggestions on ...      0   \n",
       "4       You, sir, are my hero. Any chance you remember...      0   \n",
       "...                                                   ...    ...   \n",
       "159566  \":::::And for the second time of asking, when ...      0   \n",
       "159567  You should be ashamed of yourself \\n\\nThat is ...      0   \n",
       "159568  Spitzer \\n\\nUmm, theres no actual article for ...      0   \n",
       "159569  And it looks like it was actually you who put ...      0   \n",
       "159570  \"\\nAnd ... I really don't think you understand...      0   \n",
       "\n",
       "        severe_toxic  obscene  threat  insult  identity_hate  \n",
       "0                  0        0       0       0              0  \n",
       "1                  0        0       0       0              0  \n",
       "2                  0        0       0       0              0  \n",
       "3                  0        0       0       0              0  \n",
       "4                  0        0       0       0              0  \n",
       "...              ...      ...     ...     ...            ...  \n",
       "159566             0        0       0       0              0  \n",
       "159567             0        0       0       0              0  \n",
       "159568             0        0       0       0              0  \n",
       "159569             0        0       0       0              0  \n",
       "159570             0        0       0       0              0  \n",
       "\n",
       "[159571 rows x 7 columns]"
      ]
     },
     "execution_count": 5,
     "metadata": {},
     "output_type": "execute_result"
    }
   ],
   "source": [
    "df = pd.read_csv(PATH+DATASET).drop(columns=['id']).dropna().reset_index(drop=True)\n",
    "df"
   ]
  },
  {
   "cell_type": "markdown",
   "metadata": {},
   "source": [
    "## Clean Text"
   ]
  },
  {
   "cell_type": "code",
   "execution_count": 6,
   "metadata": {},
   "outputs": [
    {
     "data": {
      "text/html": [
       "<div>\n",
       "<style scoped>\n",
       "    .dataframe tbody tr th:only-of-type {\n",
       "        vertical-align: middle;\n",
       "    }\n",
       "\n",
       "    .dataframe tbody tr th {\n",
       "        vertical-align: top;\n",
       "    }\n",
       "\n",
       "    .dataframe thead th {\n",
       "        text-align: right;\n",
       "    }\n",
       "</style>\n",
       "<table border=\"1\" class=\"dataframe\">\n",
       "  <thead>\n",
       "    <tr style=\"text-align: right;\">\n",
       "      <th></th>\n",
       "      <th>comment_text</th>\n",
       "      <th>toxic</th>\n",
       "      <th>severe_toxic</th>\n",
       "      <th>obscene</th>\n",
       "      <th>threat</th>\n",
       "      <th>insult</th>\n",
       "      <th>identity_hate</th>\n",
       "    </tr>\n",
       "  </thead>\n",
       "  <tbody>\n",
       "    <tr>\n",
       "      <th>0</th>\n",
       "      <td>explanation edits made username hardcore metal...</td>\n",
       "      <td>0</td>\n",
       "      <td>0</td>\n",
       "      <td>0</td>\n",
       "      <td>0</td>\n",
       "      <td>0</td>\n",
       "      <td>0</td>\n",
       "    </tr>\n",
       "    <tr>\n",
       "      <th>1</th>\n",
       "      <td>daww matches background colour m seemingly stu...</td>\n",
       "      <td>0</td>\n",
       "      <td>0</td>\n",
       "      <td>0</td>\n",
       "      <td>0</td>\n",
       "      <td>0</td>\n",
       "      <td>0</td>\n",
       "    </tr>\n",
       "    <tr>\n",
       "      <th>2</th>\n",
       "      <td>hey man m really trying edit war s guy constan...</td>\n",
       "      <td>0</td>\n",
       "      <td>0</td>\n",
       "      <td>0</td>\n",
       "      <td>0</td>\n",
       "      <td>0</td>\n",
       "      <td>0</td>\n",
       "    </tr>\n",
       "    <tr>\n",
       "      <th>3</th>\n",
       "      <td>ca nt make real suggestions improvement wonde...</td>\n",
       "      <td>0</td>\n",
       "      <td>0</td>\n",
       "      <td>0</td>\n",
       "      <td>0</td>\n",
       "      <td>0</td>\n",
       "      <td>0</td>\n",
       "    </tr>\n",
       "    <tr>\n",
       "      <th>4</th>\n",
       "      <td>sir hero chance remember page s</td>\n",
       "      <td>0</td>\n",
       "      <td>0</td>\n",
       "      <td>0</td>\n",
       "      <td>0</td>\n",
       "      <td>0</td>\n",
       "      <td>0</td>\n",
       "    </tr>\n",
       "    <tr>\n",
       "      <th>...</th>\n",
       "      <td>...</td>\n",
       "      <td>...</td>\n",
       "      <td>...</td>\n",
       "      <td>...</td>\n",
       "      <td>...</td>\n",
       "      <td>...</td>\n",
       "      <td>...</td>\n",
       "    </tr>\n",
       "    <tr>\n",
       "      <th>159566</th>\n",
       "      <td>second time asking view completely contradict...</td>\n",
       "      <td>0</td>\n",
       "      <td>0</td>\n",
       "      <td>0</td>\n",
       "      <td>0</td>\n",
       "      <td>0</td>\n",
       "      <td>0</td>\n",
       "    </tr>\n",
       "    <tr>\n",
       "      <th>159567</th>\n",
       "      <td>ashamed horrible thing put talk page</td>\n",
       "      <td>0</td>\n",
       "      <td>0</td>\n",
       "      <td>0</td>\n",
       "      <td>0</td>\n",
       "      <td>0</td>\n",
       "      <td>0</td>\n",
       "    </tr>\n",
       "    <tr>\n",
       "      <th>159568</th>\n",
       "      <td>spitzer umm theres actual article prostitution...</td>\n",
       "      <td>0</td>\n",
       "      <td>0</td>\n",
       "      <td>0</td>\n",
       "      <td>0</td>\n",
       "      <td>0</td>\n",
       "      <td>0</td>\n",
       "    </tr>\n",
       "    <tr>\n",
       "      <th>159569</th>\n",
       "      <td>looks like actually put speedy first version d...</td>\n",
       "      <td>0</td>\n",
       "      <td>0</td>\n",
       "      <td>0</td>\n",
       "      <td>0</td>\n",
       "      <td>0</td>\n",
       "      <td>0</td>\n",
       "    </tr>\n",
       "    <tr>\n",
       "      <th>159570</th>\n",
       "      <td>really nt think understand came idea bad righ...</td>\n",
       "      <td>0</td>\n",
       "      <td>0</td>\n",
       "      <td>0</td>\n",
       "      <td>0</td>\n",
       "      <td>0</td>\n",
       "      <td>0</td>\n",
       "    </tr>\n",
       "  </tbody>\n",
       "</table>\n",
       "<p>159571 rows × 7 columns</p>\n",
       "</div>"
      ],
      "text/plain": [
       "                                             comment_text  toxic  \\\n",
       "0       explanation edits made username hardcore metal...      0   \n",
       "1       daww matches background colour m seemingly stu...      0   \n",
       "2       hey man m really trying edit war s guy constan...      0   \n",
       "3        ca nt make real suggestions improvement wonde...      0   \n",
       "4                        sir hero chance remember page s       0   \n",
       "...                                                   ...    ...   \n",
       "159566   second time asking view completely contradict...      0   \n",
       "159567              ashamed horrible thing put talk page       0   \n",
       "159568  spitzer umm theres actual article prostitution...      0   \n",
       "159569  looks like actually put speedy first version d...      0   \n",
       "159570   really nt think understand came idea bad righ...      0   \n",
       "\n",
       "        severe_toxic  obscene  threat  insult  identity_hate  \n",
       "0                  0        0       0       0              0  \n",
       "1                  0        0       0       0              0  \n",
       "2                  0        0       0       0              0  \n",
       "3                  0        0       0       0              0  \n",
       "4                  0        0       0       0              0  \n",
       "...              ...      ...     ...     ...            ...  \n",
       "159566             0        0       0       0              0  \n",
       "159567             0        0       0       0              0  \n",
       "159568             0        0       0       0              0  \n",
       "159569             0        0       0       0              0  \n",
       "159570             0        0       0       0              0  \n",
       "\n",
       "[159571 rows x 7 columns]"
      ]
     },
     "execution_count": 6,
     "metadata": {},
     "output_type": "execute_result"
    }
   ],
   "source": [
    "df[TEXT] = cleanText(df[TEXT])\n",
    "df"
   ]
  },
  {
   "cell_type": "code",
   "execution_count": 7,
   "metadata": {},
   "outputs": [],
   "source": [
    "X_, Y_ = df[TEXT], df[CLASS]"
   ]
  },
  {
   "cell_type": "code",
   "execution_count": 8,
   "metadata": {},
   "outputs": [
    {
     "data": {
      "text/html": [
       "<div>\n",
       "<style scoped>\n",
       "    .dataframe tbody tr th:only-of-type {\n",
       "        vertical-align: middle;\n",
       "    }\n",
       "\n",
       "    .dataframe tbody tr th {\n",
       "        vertical-align: top;\n",
       "    }\n",
       "\n",
       "    .dataframe thead th {\n",
       "        text-align: right;\n",
       "    }\n",
       "</style>\n",
       "<table border=\"1\" class=\"dataframe\">\n",
       "  <thead>\n",
       "    <tr style=\"text-align: right;\">\n",
       "      <th></th>\n",
       "      <th>toxic</th>\n",
       "      <th>severe_toxic</th>\n",
       "      <th>obscene</th>\n",
       "      <th>threat</th>\n",
       "      <th>insult</th>\n",
       "      <th>identity_hate</th>\n",
       "    </tr>\n",
       "  </thead>\n",
       "  <tbody>\n",
       "    <tr>\n",
       "      <th>0</th>\n",
       "      <td>0</td>\n",
       "      <td>0</td>\n",
       "      <td>0</td>\n",
       "      <td>0</td>\n",
       "      <td>0</td>\n",
       "      <td>0</td>\n",
       "    </tr>\n",
       "    <tr>\n",
       "      <th>1</th>\n",
       "      <td>0</td>\n",
       "      <td>0</td>\n",
       "      <td>0</td>\n",
       "      <td>0</td>\n",
       "      <td>0</td>\n",
       "      <td>0</td>\n",
       "    </tr>\n",
       "    <tr>\n",
       "      <th>2</th>\n",
       "      <td>0</td>\n",
       "      <td>0</td>\n",
       "      <td>0</td>\n",
       "      <td>0</td>\n",
       "      <td>0</td>\n",
       "      <td>0</td>\n",
       "    </tr>\n",
       "    <tr>\n",
       "      <th>3</th>\n",
       "      <td>0</td>\n",
       "      <td>0</td>\n",
       "      <td>0</td>\n",
       "      <td>0</td>\n",
       "      <td>0</td>\n",
       "      <td>0</td>\n",
       "    </tr>\n",
       "    <tr>\n",
       "      <th>4</th>\n",
       "      <td>0</td>\n",
       "      <td>0</td>\n",
       "      <td>0</td>\n",
       "      <td>0</td>\n",
       "      <td>0</td>\n",
       "      <td>0</td>\n",
       "    </tr>\n",
       "    <tr>\n",
       "      <th>...</th>\n",
       "      <td>...</td>\n",
       "      <td>...</td>\n",
       "      <td>...</td>\n",
       "      <td>...</td>\n",
       "      <td>...</td>\n",
       "      <td>...</td>\n",
       "    </tr>\n",
       "    <tr>\n",
       "      <th>159566</th>\n",
       "      <td>0</td>\n",
       "      <td>0</td>\n",
       "      <td>0</td>\n",
       "      <td>0</td>\n",
       "      <td>0</td>\n",
       "      <td>0</td>\n",
       "    </tr>\n",
       "    <tr>\n",
       "      <th>159567</th>\n",
       "      <td>0</td>\n",
       "      <td>0</td>\n",
       "      <td>0</td>\n",
       "      <td>0</td>\n",
       "      <td>0</td>\n",
       "      <td>0</td>\n",
       "    </tr>\n",
       "    <tr>\n",
       "      <th>159568</th>\n",
       "      <td>0</td>\n",
       "      <td>0</td>\n",
       "      <td>0</td>\n",
       "      <td>0</td>\n",
       "      <td>0</td>\n",
       "      <td>0</td>\n",
       "    </tr>\n",
       "    <tr>\n",
       "      <th>159569</th>\n",
       "      <td>0</td>\n",
       "      <td>0</td>\n",
       "      <td>0</td>\n",
       "      <td>0</td>\n",
       "      <td>0</td>\n",
       "      <td>0</td>\n",
       "    </tr>\n",
       "    <tr>\n",
       "      <th>159570</th>\n",
       "      <td>0</td>\n",
       "      <td>0</td>\n",
       "      <td>0</td>\n",
       "      <td>0</td>\n",
       "      <td>0</td>\n",
       "      <td>0</td>\n",
       "    </tr>\n",
       "  </tbody>\n",
       "</table>\n",
       "<p>159571 rows × 6 columns</p>\n",
       "</div>"
      ],
      "text/plain": [
       "        toxic  severe_toxic  obscene  threat  insult  identity_hate\n",
       "0           0             0        0       0       0              0\n",
       "1           0             0        0       0       0              0\n",
       "2           0             0        0       0       0              0\n",
       "3           0             0        0       0       0              0\n",
       "4           0             0        0       0       0              0\n",
       "...       ...           ...      ...     ...     ...            ...\n",
       "159566      0             0        0       0       0              0\n",
       "159567      0             0        0       0       0              0\n",
       "159568      0             0        0       0       0              0\n",
       "159569      0             0        0       0       0              0\n",
       "159570      0             0        0       0       0              0\n",
       "\n",
       "[159571 rows x 6 columns]"
      ]
     },
     "execution_count": 8,
     "metadata": {},
     "output_type": "execute_result"
    }
   ],
   "source": [
    "Y_"
   ]
  },
  {
   "cell_type": "markdown",
   "metadata": {},
   "source": [
    "## Simple NN"
   ]
  },
  {
   "cell_type": "markdown",
   "metadata": {},
   "source": [
    "### Convert dataset into Word Vector"
   ]
  },
  {
   "cell_type": "code",
   "execution_count": 9,
   "metadata": {},
   "outputs": [],
   "source": [
    "X, Y = getVecForm(\n",
    "    X = X_,\n",
    "    Y = Y_,\n",
    "    vec = VEC,\n",
    "    dims=DIMS\n",
    ")"
   ]
  },
  {
   "cell_type": "code",
   "execution_count": 10,
   "metadata": {},
   "outputs": [
    {
     "data": {
      "text/plain": [
       "(159571, 300)"
      ]
     },
     "execution_count": 10,
     "metadata": {},
     "output_type": "execute_result"
    }
   ],
   "source": [
    "X.shape"
   ]
  },
  {
   "cell_type": "code",
   "execution_count": 11,
   "metadata": {},
   "outputs": [
    {
     "data": {
      "text/plain": [
       "array([[0., 0., 0., 0., 0., 0.],\n",
       "       [0., 0., 0., 0., 0., 0.],\n",
       "       [0., 0., 0., 0., 0., 0.],\n",
       "       ...,\n",
       "       [0., 0., 0., 0., 0., 0.],\n",
       "       [0., 0., 0., 0., 0., 0.],\n",
       "       [0., 0., 0., 0., 0., 0.]], dtype=float16)"
      ]
     },
     "execution_count": 11,
     "metadata": {},
     "output_type": "execute_result"
    }
   ],
   "source": [
    "Y"
   ]
  },
  {
   "cell_type": "code",
   "execution_count": 12,
   "metadata": {},
   "outputs": [],
   "source": [
    "x_train, x_test, y_train, y_test = train_test_split(X, Y)"
   ]
  },
  {
   "cell_type": "markdown",
   "metadata": {},
   "source": [
    "### Training a Simple NN"
   ]
  },
  {
   "cell_type": "code",
   "execution_count": 13,
   "metadata": {},
   "outputs": [],
   "source": [
    "def simpleNN(X, Y):\n",
    "    model = tf.keras.Sequential()\n",
    "    model.add(tf.keras.layers.Dense(\n",
    "        128, activation='relu', input_shape=X.shape[1:]))\n",
    "    model.add(tf.keras.layers.BatchNormalization())\n",
    "    model.add(tf.keras.layers.Dropout(0.2))\n",
    "    model.add(tf.keras.layers.Dense(64, activation='relu'))\n",
    "    model.add(tf.keras.layers.BatchNormalization())\n",
    "    model.add(tf.keras.layers.Dropout(0.2))\n",
    "    model.add(tf.keras.layers.Dense(Y.shape[1], activation='sigmoid'))\n",
    "\n",
    "    opt = tf.keras.optimizers.Adam(learning_rate=0.0005)\n",
    "    model.compile(loss='categorical_crossentropy',\n",
    "                  optimizer=opt, metrics=['accuracy'])\n",
    "    return model"
   ]
  },
  {
   "cell_type": "code",
   "execution_count": 14,
   "metadata": {},
   "outputs": [
    {
     "name": "stdout",
     "output_type": "stream",
     "text": [
      "Epoch 1/15\n",
      "2805/2805 [==============================] - 12s 4ms/step - loss: 0.5747 - accuracy: 0.2251 - val_loss: 0.4812 - val_accuracy: 0.9017\n",
      "Epoch 2/15\n",
      "2805/2805 [==============================] - 11s 4ms/step - loss: 0.8325 - accuracy: 0.2146 - val_loss: 0.4112 - val_accuracy: 0.9548\n",
      "Epoch 3/15\n",
      "2805/2805 [==============================] - 11s 4ms/step - loss: 0.9313 - accuracy: 0.2086 - val_loss: 0.4029 - val_accuracy: 0.9261\n",
      "Epoch 4/15\n",
      "2805/2805 [==============================] - 11s 4ms/step - loss: 0.9727 - accuracy: 0.2067 - val_loss: 0.3786 - val_accuracy: 0.6962\n",
      "Epoch 5/15\n",
      "2805/2805 [==============================] - 11s 4ms/step - loss: 0.9455 - accuracy: 0.2095 - val_loss: 0.4179 - val_accuracy: 0.0289\n",
      "Epoch 6/15\n",
      "2805/2805 [==============================] - 11s 4ms/step - loss: 0.8825 - accuracy: 0.2137 - val_loss: 0.3897 - val_accuracy: 0.9037\n",
      "Epoch 7/15\n",
      "2805/2805 [==============================] - 11s 4ms/step - loss: 0.7934 - accuracy: 0.2251 - val_loss: 0.3697 - val_accuracy: 0.9604\n",
      "Epoch 8/15\n",
      "2805/2805 [==============================] - 11s 4ms/step - loss: 0.6856 - accuracy: 0.2366 - val_loss: 0.3632 - val_accuracy: 0.9710\n",
      "Epoch 9/15\n",
      "2805/2805 [==============================] - 11s 4ms/step - loss: 0.5996 - accuracy: 0.2507 - val_loss: 0.3702 - val_accuracy: 0.9741\n",
      "Epoch 10/15\n",
      "2805/2805 [==============================] - 11s 4ms/step - loss: 0.5295 - accuracy: 0.2709 - val_loss: 0.3573 - val_accuracy: 0.9892\n",
      "Epoch 11/15\n",
      "2805/2805 [==============================] - 11s 4ms/step - loss: 0.4803 - accuracy: 0.2886 - val_loss: 0.3522 - val_accuracy: 0.9922\n",
      "Epoch 12/15\n",
      "2805/2805 [==============================] - 11s 4ms/step - loss: 0.4487 - accuracy: 0.3095 - val_loss: 0.3630 - val_accuracy: 0.9767\n",
      "Epoch 13/15\n",
      "2805/2805 [==============================] - 11s 4ms/step - loss: 0.4247 - accuracy: 0.3322 - val_loss: 0.3519 - val_accuracy: 0.9808\n",
      "Epoch 14/15\n",
      "2805/2805 [==============================] - 11s 4ms/step - loss: 0.4065 - accuracy: 0.3600 - val_loss: 0.3552 - val_accuracy: 0.9907\n",
      "Epoch 15/15\n",
      "2805/2805 [==============================] - 11s 4ms/step - loss: 0.3973 - accuracy: 0.3799 - val_loss: 0.3758 - val_accuracy: 0.9818\n"
     ]
    }
   ],
   "source": [
    "snn = simpleNN(X, Y)\n",
    "history = snn.fit(x_train, y_train, validation_split=SPLIT, epochs=EPOCH)"
   ]
  },
  {
   "cell_type": "code",
   "execution_count": 15,
   "metadata": {
    "scrolled": true
   },
   "outputs": [
    {
     "name": "stdout",
     "output_type": "stream",
     "text": [
      "1247/1247 [==============================] - 3s 2ms/step - loss: 0.3739 - accuracy: 0.9826\n"
     ]
    },
    {
     "data": {
      "text/plain": [
       "[0.3739440143108368, 0.9826034903526306]"
      ]
     },
     "execution_count": 15,
     "metadata": {},
     "output_type": "execute_result"
    }
   ],
   "source": [
    "snn.evaluate(x_test, y_test)"
   ]
  },
  {
   "cell_type": "markdown",
   "metadata": {},
   "source": [
    "### Loss History"
   ]
  },
  {
   "cell_type": "code",
   "execution_count": 16,
   "metadata": {},
   "outputs": [
    {
     "data": {
      "text/plain": [
       "[<matplotlib.lines.Line2D at 0x18890a63790>]"
      ]
     },
     "execution_count": 16,
     "metadata": {},
     "output_type": "execute_result"
    },
    {
     "data": {
      "image/png": "[encoded data removed]",
      "text/plain": [
       "<Figure size 432x288 with 1 Axes>"
      ]
     },
     "metadata": {
      "needs_background": "light"
     },
     "output_type": "display_data"
    }
   ],
   "source": [
    "plt.plot(history.history['loss'])\n",
    "plt.plot(history.history['val_loss'])"
   ]
  },
  {
   "cell_type": "markdown",
   "metadata": {},
   "source": [
    "### Accuracy History"
   ]
  },
  {
   "cell_type": "code",
   "execution_count": 17,
   "metadata": {},
   "outputs": [
    {
     "data": {
      "text/plain": [
       "[<matplotlib.lines.Line2D at 0x1887f524040>]"
      ]
     },
     "execution_count": 17,
     "metadata": {},
     "output_type": "execute_result"
    },
    {
     "data": {
      "image/png": "[encoded data removed]",
      "text/plain": [
       "<Figure size 432x288 with 1 Axes>"
      ]
     },
     "metadata": {
      "needs_background": "light"
     },
     "output_type": "display_data"
    }
   ],
   "source": [
    "plt.plot(history.history['accuracy'])\n",
    "plt.plot(history.history['val_accuracy'])"
   ]
  },
  {
   "cell_type": "code",
   "execution_count": 18,
   "metadata": {},
   "outputs": [],
   "source": [
    "snn.save('SNN.h5')"
   ]
  },
  {
   "cell_type": "markdown",
   "metadata": {},
   "source": [
    "### Training a Simple NN with TanH"
   ]
  },
  {
   "cell_type": "code",
   "execution_count": 19,
   "metadata": {},
   "outputs": [],
   "source": [
    "def simpleNNtanh(X, Y):\n",
    "    model = tf.keras.Sequential()\n",
    "    model.add(tf.keras.layers.Dense(\n",
    "        128, activation='relu', input_shape=X.shape[1:]))\n",
    "    model.add(tf.keras.layers.BatchNormalization())\n",
    "    model.add(tf.keras.layers.Dropout(0.2))\n",
    "    model.add(tf.keras.layers.Dense(64, activation='tanh'))\n",
    "    model.add(tf.keras.layers.BatchNormalization())\n",
    "    model.add(tf.keras.layers.Dropout(0.2))\n",
    "    model.add(tf.keras.layers.Dense(Y.shape[1], activation='sigmoid'))\n",
    "\n",
    "    opt = tf.keras.optimizers.Adam(learning_rate=0.0005)\n",
    "    model.compile(loss='categorical_crossentropy',\n",
    "                  optimizer=opt, metrics=['accuracy'])\n",
    "    return model"
   ]
  },
  {
   "cell_type": "code",
   "execution_count": 20,
   "metadata": {},
   "outputs": [
    {
     "name": "stdout",
     "output_type": "stream",
     "text": [
      "Epoch 1/15\n",
      "2805/2805 [==============================] - 12s 4ms/step - loss: 0.6330 - accuracy: 0.1994 - val_loss: 0.3907 - val_accuracy: 0.0058\n",
      "Epoch 2/15\n",
      "2805/2805 [==============================] - 11s 4ms/step - loss: 0.8869 - accuracy: 0.2069 - val_loss: 0.3841 - val_accuracy: 0.0084\n",
      "Epoch 3/15\n",
      "2805/2805 [==============================] - 11s 4ms/step - loss: 0.9646 - accuracy: 0.2143 - val_loss: 0.3743 - val_accuracy: 0.2599\n",
      "Epoch 4/15\n",
      "2805/2805 [==============================] - 11s 4ms/step - loss: 0.9904 - accuracy: 0.2211 - val_loss: 0.3914 - val_accuracy: 0.0261\n",
      "Epoch 5/15\n",
      "2805/2805 [==============================] - 11s 4ms/step - loss: 0.9744 - accuracy: 0.2261 - val_loss: 0.4139 - val_accuracy: 0.0109\n",
      "Epoch 6/15\n",
      "2805/2805 [==============================] - 11s 4ms/step - loss: 0.8785 - accuracy: 0.2392 - val_loss: 0.4306 - val_accuracy: 0.0116\n",
      "Epoch 7/15\n",
      "2805/2805 [==============================] - 11s 4ms/step - loss: 0.7968 - accuracy: 0.2548 - val_loss: 0.3959 - val_accuracy: 0.0437\n",
      "Epoch 8/15\n",
      "2805/2805 [==============================] - 11s 4ms/step - loss: 0.6967 - accuracy: 0.2716 - val_loss: 0.3731 - val_accuracy: 0.0311\n",
      "Epoch 9/15\n",
      "2805/2805 [==============================] - 11s 4ms/step - loss: 0.6134 - accuracy: 0.2905 - val_loss: 0.3849 - val_accuracy: 0.0083\n",
      "Epoch 10/15\n",
      "2805/2805 [==============================] - 12s 4ms/step - loss: 0.5422 - accuracy: 0.3141 - val_loss: 0.3521 - val_accuracy: 0.9935\n",
      "Epoch 11/15\n",
      "2805/2805 [==============================] - 12s 4ms/step - loss: 0.4856 - accuracy: 0.3402 - val_loss: 0.3606 - val_accuracy: 0.0853\n",
      "Epoch 12/15\n",
      "2805/2805 [==============================] - 12s 4ms/step - loss: 0.4436 - accuracy: 0.3725 - val_loss: 0.3534 - val_accuracy: 0.9934\n",
      "Epoch 13/15\n",
      "2805/2805 [==============================] - 11s 4ms/step - loss: 0.4179 - accuracy: 0.4020 - val_loss: 0.3475 - val_accuracy: 0.9935\n",
      "Epoch 14/15\n",
      "2805/2805 [==============================] - 11s 4ms/step - loss: 0.4018 - accuracy: 0.4277 - val_loss: 0.3529 - val_accuracy: 0.9935\n",
      "Epoch 15/15\n",
      "2805/2805 [==============================] - 11s 4ms/step - loss: 0.3907 - accuracy: 0.4562 - val_loss: 0.3454 - val_accuracy: 0.9936\n"
     ]
    }
   ],
   "source": [
    "snnth = simpleNNtanh(X, Y)\n",
    "history = snnth.fit(x_train, y_train, validation_split=SPLIT, epochs=EPOCH)"
   ]
  },
  {
   "cell_type": "code",
   "execution_count": 21,
   "metadata": {
    "scrolled": true
   },
   "outputs": [
    {
     "name": "stdout",
     "output_type": "stream",
     "text": [
      "1247/1247 [==============================] - 2s 2ms/step - loss: 0.3432 - accuracy: 0.9942\n"
     ]
    },
    {
     "data": {
      "text/plain": [
       "[0.3431628942489624, 0.9941594004631042]"
      ]
     },
     "execution_count": 21,
     "metadata": {},
     "output_type": "execute_result"
    }
   ],
   "source": [
    "snnth.evaluate(x_test, y_test)"
   ]
  },
  {
   "cell_type": "markdown",
   "metadata": {},
   "source": [
    "### Loss History"
   ]
  },
  {
   "cell_type": "code",
   "execution_count": 22,
   "metadata": {},
   "outputs": [
    {
     "data": {
      "text/plain": [
       "[<matplotlib.lines.Line2D at 0x1886e1fadf0>]"
      ]
     },
     "execution_count": 22,
     "metadata": {},
     "output_type": "execute_result"
    },
    {
     "data": {
      "image/png": "[encoded data removed]",
      "text/plain": [
       "<Figure size 432x288 with 1 Axes>"
      ]
     },
     "metadata": {
      "needs_background": "light"
     },
     "output_type": "display_data"
    }
   ],
   "source": [
    "plt.plot(history.history['loss'])\n",
    "plt.plot(history.history['val_loss'])"
   ]
  },
  {
   "cell_type": "markdown",
   "metadata": {},
   "source": [
    "### Accuracy History"
   ]
  },
  {
   "cell_type": "code",
   "execution_count": 23,
   "metadata": {},
   "outputs": [
    {
     "data": {
      "text/plain": [
       "[<matplotlib.lines.Line2D at 0x18865f63910>]"
      ]
     },
     "execution_count": 23,
     "metadata": {},
     "output_type": "execute_result"
    },
    {
     "data": {
      "image/png": "[encoded data removed]",
      "text/plain": [
       "<Figure size 432x288 with 1 Axes>"
      ]
     },
     "metadata": {
      "needs_background": "light"
     },
     "output_type": "display_data"
    }
   ],
   "source": [
    "plt.plot(history.history['accuracy'])\n",
    "plt.plot(history.history['val_accuracy'])"
   ]
  },
  {
   "cell_type": "code",
   "execution_count": 24,
   "metadata": {},
   "outputs": [],
   "source": [
    "snnth.save('SNNTanH.h5')"
   ]
  },
  {
   "cell_type": "markdown",
   "metadata": {},
   "source": [
    "## LSTM"
   ]
  },
  {
   "cell_type": "markdown",
   "metadata": {},
   "source": [
    "### Convert dataset into Word Vector"
   ]
  },
  {
   "cell_type": "code",
   "execution_count": 25,
   "metadata": {},
   "outputs": [
    {
     "data": {
      "text/plain": [
       "(159571, 1, 300)"
      ]
     },
     "execution_count": 25,
     "metadata": {},
     "output_type": "execute_result"
    }
   ],
   "source": [
    "X = np.reshape(X, (X.shape[0], 1, X.shape[1]))\n",
    "X.shape"
   ]
  },
  {
   "cell_type": "code",
   "execution_count": 26,
   "metadata": {},
   "outputs": [],
   "source": [
    "x_train, x_test, y_train, y_test = train_test_split(X, Y)"
   ]
  },
  {
   "cell_type": "markdown",
   "metadata": {},
   "source": [
    "### Training a LSTM"
   ]
  },
  {
   "cell_type": "code",
   "execution_count": 27,
   "metadata": {},
   "outputs": [],
   "source": [
    "def simpleLSTM(X, Y):\n",
    "    model = tf.keras.Sequential()\n",
    "    model.add(tf.keras.layers.LSTM(8, input_shape=X.shape[1:]))\n",
    "    model.add(tf.keras.layers.Flatten())\n",
    "    model.add(tf.keras.layers.Dense(32, activation='relu'))\n",
    "    model.add(tf.keras.layers.Dropout(0.2))\n",
    "    model.add(tf.keras.layers.BatchNormalization())\n",
    "    model.add(tf.keras.layers.Dense(Y.shape[1], activation='sigmoid'))\n",
    "\n",
    "    opt = tf.keras.optimizers.Adam(learning_rate=0.0005)\n",
    "    model.compile(loss='binary_crossentropy',\n",
    "                  optimizer=opt, metrics=['accuracy'])\n",
    "    return model"
   ]
  },
  {
   "cell_type": "code",
   "execution_count": 28,
   "metadata": {},
   "outputs": [
    {
     "name": "stdout",
     "output_type": "stream",
     "text": [
      "Epoch 1/15\n",
      "2805/2805 [==============================] - 16s 5ms/step - loss: 0.1584 - accuracy: 0.7435 - val_loss: 0.0759 - val_accuracy: 0.9899\n",
      "Epoch 2/15\n",
      "2805/2805 [==============================] - 13s 5ms/step - loss: 0.0727 - accuracy: 0.9904 - val_loss: 0.0705 - val_accuracy: 0.9917\n",
      "Epoch 3/15\n",
      "2805/2805 [==============================] - 13s 5ms/step - loss: 0.0694 - accuracy: 0.9915 - val_loss: 0.0693 - val_accuracy: 0.9916\n",
      "Epoch 4/15\n",
      "2805/2805 [==============================] - 13s 5ms/step - loss: 0.0679 - accuracy: 0.9910 - val_loss: 0.0683 - val_accuracy: 0.9933\n",
      "Epoch 5/15\n",
      "2805/2805 [==============================] - 13s 5ms/step - loss: 0.0664 - accuracy: 0.9921 - val_loss: 0.0692 - val_accuracy: 0.9937\n",
      "Epoch 6/15\n",
      "2805/2805 [==============================] - 13s 5ms/step - loss: 0.0648 - accuracy: 0.9924 - val_loss: 0.0689 - val_accuracy: 0.9936\n",
      "Epoch 7/15\n",
      "2805/2805 [==============================] - 13s 5ms/step - loss: 0.0642 - accuracy: 0.9927 - val_loss: 0.0681 - val_accuracy: 0.9936\n",
      "Epoch 8/15\n",
      "2805/2805 [==============================] - 13s 5ms/step - loss: 0.0630 - accuracy: 0.9925 - val_loss: 0.0674 - val_accuracy: 0.9933\n",
      "Epoch 9/15\n",
      "2805/2805 [==============================] - 13s 5ms/step - loss: 0.0624 - accuracy: 0.9928 - val_loss: 0.0684 - val_accuracy: 0.9927\n",
      "Epoch 10/15\n",
      "2805/2805 [==============================] - 14s 5ms/step - loss: 0.0621 - accuracy: 0.9917 - val_loss: 0.0691 - val_accuracy: 0.9918\n",
      "Epoch 11/15\n",
      "2805/2805 [==============================] - 14s 5ms/step - loss: 0.0615 - accuracy: 0.9892 - val_loss: 0.0689 - val_accuracy: 0.9922\n",
      "Epoch 12/15\n",
      "2805/2805 [==============================] - 13s 5ms/step - loss: 0.0613 - accuracy: 0.9902 - val_loss: 0.0691 - val_accuracy: 0.9894\n",
      "Epoch 13/15\n",
      "2805/2805 [==============================] - 13s 5ms/step - loss: 0.0605 - accuracy: 0.9888 - val_loss: 0.0682 - val_accuracy: 0.9930\n",
      "Epoch 14/15\n",
      "2805/2805 [==============================] - 13s 5ms/step - loss: 0.0601 - accuracy: 0.9895 - val_loss: 0.0692 - val_accuracy: 0.9886\n",
      "Epoch 15/15\n",
      "2805/2805 [==============================] - 13s 5ms/step - loss: 0.0598 - accuracy: 0.9903 - val_loss: 0.0683 - val_accuracy: 0.9923\n"
     ]
    }
   ],
   "source": [
    "lstms = simpleLSTM(X, Y)\n",
    "history = lstms.fit(x_train, y_train, validation_split=SPLIT, epochs=EPOCH)"
   ]
  },
  {
   "cell_type": "code",
   "execution_count": 29,
   "metadata": {},
   "outputs": [
    {
     "name": "stdout",
     "output_type": "stream",
     "text": [
      "1247/1247 [==============================] - 3s 2ms/step - loss: 0.0682 - accuracy: 0.9924\n"
     ]
    },
    {
     "data": {
      "text/plain": [
       "[0.06815150380134583, 0.9924046993255615]"
      ]
     },
     "execution_count": 29,
     "metadata": {},
     "output_type": "execute_result"
    }
   ],
   "source": [
    "lstms.evaluate(x_test, y_test)"
   ]
  },
  {
   "cell_type": "markdown",
   "metadata": {},
   "source": [
    "### Loss History"
   ]
  },
  {
   "cell_type": "code",
   "execution_count": 30,
   "metadata": {},
   "outputs": [
    {
     "data": {
      "text/plain": [
       "[<matplotlib.lines.Line2D at 0x18806d0d190>]"
      ]
     },
     "execution_count": 30,
     "metadata": {},
     "output_type": "execute_result"
    },
    {
     "data": {
      "image/png": "[encoded data removed]",
      "text/plain": [
       "<Figure size 432x288 with 1 Axes>"
      ]
     },
     "metadata": {
      "needs_background": "light"
     },
     "output_type": "display_data"
    }
   ],
   "source": [
    "plt.plot(history.history['loss'])\n",
    "plt.plot(history.history['val_loss'])"
   ]
  },
  {
   "cell_type": "markdown",
   "metadata": {},
   "source": [
    "### Accuracy History"
   ]
  },
  {
   "cell_type": "code",
   "execution_count": 31,
   "metadata": {},
   "outputs": [
    {
     "data": {
      "text/plain": [
       "[<matplotlib.lines.Line2D at 0x18806d6b4c0>]"
      ]
     },
     "execution_count": 31,
     "metadata": {},
     "output_type": "execute_result"
    },
    {
     "data": {
      "image/png": "[encoded data removed]",
      "text/plain": [
       "<Figure size 432x288 with 1 Axes>"
      ]
     },
     "metadata": {
      "needs_background": "light"
     },
     "output_type": "display_data"
    }
   ],
   "source": [
    "plt.plot(history.history['accuracy'])\n",
    "plt.plot(history.history['val_accuracy'])"
   ]
  },
  {
   "cell_type": "code",
   "execution_count": 32,
   "metadata": {},
   "outputs": [],
   "source": [
    "lstms.save('LSTM.h5')"
   ]
  },
  {
   "cell_type": "markdown",
   "metadata": {},
   "source": [
    "### Training LSTM with TanH"
   ]
  },
  {
   "cell_type": "code",
   "execution_count": 33,
   "metadata": {},
   "outputs": [],
   "source": [
    "def simpleLSTMtanh(X, Y):\n",
    "    model = tf.keras.Sequential()\n",
    "    model.add(tf.keras.layers.LSTM(8, input_shape=X.shape[1:]))\n",
    "    model.add(tf.keras.layers.Flatten())\n",
    "    model.add(tf.keras.layers.Dense(32, activation='tanh'))\n",
    "    model.add(tf.keras.layers.Dropout(0.2))\n",
    "    model.add(tf.keras.layers.BatchNormalization())\n",
    "    model.add(tf.keras.layers.Dense(Y.shape[1], activation='sigmoid'))\n",
    "\n",
    "    opt = tf.keras.optimizers.Adam(learning_rate=0.0005)\n",
    "    model.compile(loss='binary_crossentropy',\n",
    "                  optimizer=opt, metrics=['accuracy'])\n",
    "    return model"
   ]
  },
  {
   "cell_type": "code",
   "execution_count": 34,
   "metadata": {},
   "outputs": [
    {
     "name": "stdout",
     "output_type": "stream",
     "text": [
      "Epoch 1/15\n",
      "2805/2805 [==============================] - 16s 5ms/step - loss: 0.1635 - accuracy: 0.5227 - val_loss: 0.0723 - val_accuracy: 0.9932\n",
      "Epoch 2/15\n",
      "2805/2805 [==============================] - 13s 5ms/step - loss: 0.0708 - accuracy: 0.9291 - val_loss: 0.0685 - val_accuracy: 0.9937\n",
      "Epoch 3/15\n",
      "2805/2805 [==============================] - 13s 5ms/step - loss: 0.0670 - accuracy: 0.9623 - val_loss: 0.0670 - val_accuracy: 0.9935\n",
      "Epoch 4/15\n",
      "2805/2805 [==============================] - 13s 5ms/step - loss: 0.0645 - accuracy: 0.9753 - val_loss: 0.0673 - val_accuracy: 0.9930\n",
      "Epoch 5/15\n",
      "2805/2805 [==============================] - 13s 5ms/step - loss: 0.0629 - accuracy: 0.9763 - val_loss: 0.0667 - val_accuracy: 0.9931\n",
      "Epoch 6/15\n",
      "2805/2805 [==============================] - 13s 5ms/step - loss: 0.0617 - accuracy: 0.9792 - val_loss: 0.0670 - val_accuracy: 0.9933\n",
      "Epoch 7/15\n",
      "2805/2805 [==============================] - 13s 5ms/step - loss: 0.0607 - accuracy: 0.9850 - val_loss: 0.0661 - val_accuracy: 0.9928\n",
      "Epoch 8/15\n",
      "2805/2805 [==============================] - 14s 5ms/step - loss: 0.0594 - accuracy: 0.9821 - val_loss: 0.0684 - val_accuracy: 0.9931\n",
      "Epoch 9/15\n",
      "2805/2805 [==============================] - 13s 5ms/step - loss: 0.0592 - accuracy: 0.9881 - val_loss: 0.0671 - val_accuracy: 0.9922\n",
      "Epoch 10/15\n",
      "2805/2805 [==============================] - 13s 5ms/step - loss: 0.0584 - accuracy: 0.9782 - val_loss: 0.0676 - val_accuracy: 0.9930\n",
      "Epoch 11/15\n",
      "2805/2805 [==============================] - 13s 5ms/step - loss: 0.0579 - accuracy: 0.9856 - val_loss: 0.0667 - val_accuracy: 0.9921\n",
      "Epoch 12/15\n",
      "2805/2805 [==============================] - 13s 5ms/step - loss: 0.0575 - accuracy: 0.9841 - val_loss: 0.0666 - val_accuracy: 0.9932\n",
      "Epoch 13/15\n",
      "2805/2805 [==============================] - 13s 5ms/step - loss: 0.0566 - accuracy: 0.9875 - val_loss: 0.0667 - val_accuracy: 0.9913\n",
      "Epoch 14/15\n",
      "2805/2805 [==============================] - 13s 5ms/step - loss: 0.0562 - accuracy: 0.9857 - val_loss: 0.0681 - val_accuracy: 0.9927\n",
      "Epoch 15/15\n",
      "2805/2805 [==============================] - 13s 5ms/step - loss: 0.0558 - accuracy: 0.9870 - val_loss: 0.0668 - val_accuracy: 0.9927\n"
     ]
    }
   ],
   "source": [
    "lstmth = simpleLSTMtanh(X, Y)\n",
    "history = lstmth.fit(x_train, y_train, validation_split=SPLIT, epochs=EPOCH)"
   ]
  },
  {
   "cell_type": "code",
   "execution_count": 35,
   "metadata": {},
   "outputs": [
    {
     "name": "stdout",
     "output_type": "stream",
     "text": [
      "1247/1247 [==============================] - 3s 2ms/step - loss: 0.0660 - accuracy: 0.9931\n"
     ]
    },
    {
     "data": {
      "text/plain": [
       "[0.06603048741817474, 0.9930815100669861]"
      ]
     },
     "execution_count": 35,
     "metadata": {},
     "output_type": "execute_result"
    }
   ],
   "source": [
    "lstmth.evaluate(x_test, y_test)"
   ]
  },
  {
   "cell_type": "markdown",
   "metadata": {},
   "source": [
    "### Loss History"
   ]
  },
  {
   "cell_type": "code",
   "execution_count": 36,
   "metadata": {},
   "outputs": [
    {
     "data": {
      "text/plain": [
       "[<matplotlib.lines.Line2D at 0x18806b2cb80>]"
      ]
     },
     "execution_count": 36,
     "metadata": {},
     "output_type": "execute_result"
    },
    {
     "data": {
      "image/png": "[encoded data removed]",
      "text/plain": [
       "<Figure size 432x288 with 1 Axes>"
      ]
     },
     "metadata": {
      "needs_background": "light"
     },
     "output_type": "display_data"
    }
   ],
   "source": [
    "plt.plot(history.history['loss'])\n",
    "plt.plot(history.history['val_loss'])"
   ]
  },
  {
   "cell_type": "markdown",
   "metadata": {},
   "source": [
    "### Accuracy History"
   ]
  },
  {
   "cell_type": "code",
   "execution_count": 37,
   "metadata": {},
   "outputs": [
    {
     "data": {
      "text/plain": [
       "[<matplotlib.lines.Line2D at 0x18806b940a0>]"
      ]
     },
     "execution_count": 37,
     "metadata": {},
     "output_type": "execute_result"
    },
    {
     "data": {
      "image/png": "[encoded data removed]",
      "text/plain": [
       "<Figure size 432x288 with 1 Axes>"
      ]
     },
     "metadata": {
      "needs_background": "light"
     },
     "output_type": "display_data"
    }
   ],
   "source": [
    "plt.plot(history.history['accuracy'])\n",
    "plt.plot(history.history['val_accuracy'])"
   ]
  },
  {
   "cell_type": "code",
   "execution_count": 38,
   "metadata": {},
   "outputs": [],
   "source": [
    "lstmth.save('LSTMTanH.h5')"
   ]
  },
  {
   "cell_type": "code",
   "execution_count": 40,
   "metadata": {},
   "outputs": [
    {
     "name": "stdout",
     "output_type": "stream",
     "text": [
      "[[0.16849567 0.00056785 0.01589252 0.00045656 0.03464931 0.00144142]]\n",
      "[[0.14389637 0.00235194 0.03550495 0.00114327 0.03132157 0.00138212]]\n",
      "[[0. 0. 0. 0. 0. 0.]]\n",
      "[[0. 0. 0. 0. 0. 0.]]\n"
     ]
    }
   ],
   "source": [
    "sentence = 'Hello I am not toxic'\n",
    "\n",
    "def preprocess(sentence, VEC=VEC, DIMS=DIMS, reshape=False):\n",
    "    X = cleanText([sentence])\n",
    "    X = getDocVec(sentence=X[0], vec=VEC, dims=DIMS)\n",
    "    X = np.asarray([X]).astype(np.float16)\n",
    "    if reshape:\n",
    "        X = np.reshape(X, (X.shape[0], 1, X.shape[1]))\n",
    "    return X\n",
    "\n",
    "print(lstms.predict(preprocess(sentence, reshape=True)))\n",
    "print(lstmth.predict(preprocess(sentence, reshape=True)))\n",
    "print(snn.predict(preprocess(sentence)))\n",
    "print(snnth.predict(preprocess(sentence)))"
   ]
  },
  {
   "cell_type": "code",
   "execution_count": null,
   "metadata": {},
   "outputs": [],
   "source": []
  }
 ],
 "metadata": {
  "kernelspec": {
   "display_name": "Python 3.9.7 ('base')",
   "language": "python",
   "name": "python3"
  },
  "language_info": {
   "codemirror_mode": {
    "name": "ipython",
    "version": 3
   },
   "file_extension": ".py",
   "mimetype": "text/x-python",
   "name": "python",
   "nbconvert_exporter": "python",
   "pygments_lexer": "ipython3",
   "version": "3.9.7"
  },
  "vscode": {
   "interpreter": {
    "hash": "4773cc5f6a1df3578691c49598e042f5569045aaa29531cc8daf457d69e7ab67"
   }
  }
 },
 "nbformat": 4,
 "nbformat_minor": 4
}
