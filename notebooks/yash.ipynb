{
 "cells": [
  {
   "cell_type": "code",
   "execution_count": null,
   "metadata": {},
   "outputs": [],
   "source": [
    "import pandas as pd\n",
    "import numpy as np\n",
    "import random"
   ]
  },
  {
   "cell_type": "code",
   "execution_count": null,
   "metadata": {},
   "outputs": [],
   "source": [
    "import re\n",
    "from nltk import word_tokenize\n",
    "from nltk.corpus import stopwords\n"
   ]
  },
  {
   "cell_type": "code",
   "execution_count": null,
   "metadata": {},
   "outputs": [],
   "source": [
    "df = pd.read_csv(\"../data/jigsaw-toxic-comment-classification-challenge/train.csv\")\n",
    "df.head()"
   ]
  },
  {
   "cell_type": "code",
   "execution_count": null,
   "metadata": {},
   "outputs": [],
   "source": [
    "len(df)"
   ]
  },
  {
   "cell_type": "code",
   "execution_count": null,
   "metadata": {},
   "outputs": [],
   "source": [
    "print(\"report of the data composition\")\n",
    "print(f\" Toxic data Composition \\n{df['toxic'].value_counts()/len(df['toxic'])}\\n\\n\")\n",
    "print(f\" severe_toxic data Composition \\n{df['severe_toxic'].value_counts()/len(df['severe_toxic'])}\\n\\n\")\n",
    "print(f\" obscene data Composition \\n{df['obscene'].value_counts()/len(df['obscene'])}\\n\\n\")\n",
    "print(f\" threat data Composition \\n{df['threat'].value_counts()/len(df['threat'])}\\n\\n\")\n",
    "print(f\" insult data Composition \\n{df['insult'].value_counts()/len(df['insult'])}\\n\\n\")\n",
    "print(f\" identity_hate data Composition \\n{df['identity_hate'].value_counts()/len(df['identity_hate'])}\\n\\n\")"
   ]
  },
  {
   "cell_type": "code",
   "execution_count": null,
   "metadata": {},
   "outputs": [],
   "source": [
    "# df.drop(df[(df.toxic == 0 ) &\t(df.severe_toxic == 0 ) & (df.obscene ==0)& (df.threat ==0)&(df.insult ==0)& (df.identity_hate == 0)].index, inplace=True)"
   ]
  },
  {
   "cell_type": "code",
   "execution_count": null,
   "metadata": {},
   "outputs": [],
   "source": [
    "# print(\"report of the data composition\")\n",
    "# print(f\" Toxic data Composition \\n{df['toxic'].value_counts()/len(df['toxic'])}\\n\\n\")\n",
    "# print(f\" severe_toxic data Composition \\n{df['severe_toxic'].value_counts()/len(df['severe_toxic'])}\\n\\n\")\n",
    "# print(f\" obscene data Composition \\n{df['obscene'].value_counts()/len(df['obscene'])}\\n\\n\")\n",
    "# print(f\" threat data Composition \\n{df['threat'].value_counts()/len(df['threat'])}\\n\\n\")\n",
    "# print(f\" insult data Composition \\n{df['insult'].value_counts()/len(df['insult'])}\\n\\n\")\n",
    "# print(f\" identity_hate data Composition \\n{df['identity_hate'].value_counts()/len(df['identity_hate'])}\\n\\n\")"
   ]
  },
  {
   "cell_type": "code",
   "execution_count": null,
   "metadata": {},
   "outputs": [],
   "source": [
    "print(\"Toxic:\",df[df['toxic']== 1 ]['comment_text'].values[random.randint(0,int(len(df)/10))])\n",
    "print(\"Not Toxic :\",df[df['toxic']== 0 ]['comment_text'].values[random.randint(0,int(len(df)/10))])"
   ]
  },
  {
   "cell_type": "code",
   "execution_count": null,
   "metadata": {},
   "outputs": [],
   "source": [
    "stops=set(stopwords.words('english'))"
   ]
  },
  {
   "cell_type": "code",
   "execution_count": null,
   "metadata": {},
   "outputs": [],
   "source": [
    "def textPreprocess(text):\n",
    "    cleanText = text.strip()\n",
    "    cleanText = text.lower()\n",
    "    cleanText = word_tokenize(cleanText)\n",
    "    cleanText = [word for word in cleanText if word not in stops]\n",
    "    cleanText = \" \".join(cleanText)\n",
    "    cleanText = cleanText.replace('\\n',\" \")\n",
    "    cleanText = re.sub(r\"(?:^|\\W)utc(?:$|\\W)\",'',cleanText)\n",
    "    cleanText = re.sub(r'http[s]*://[A-Za-z0-9:./?=]*','url',cleanText)\n",
    "    cleanText = re.sub(r\"[^a-z\\s]\",'',cleanText)\n",
    "    cleanText = re.sub(r'[\\s]+',\" \",cleanText)\n",
    "    return cleanText"
   ]
  },
  {
   "cell_type": "code",
   "execution_count": null,
   "metadata": {},
   "outputs": [],
   "source": [
    "textPreprocess(\"Cause i done CAre when i am with my baby yeah All the bad things disappear and you have been making me feel like i am loved by someday\")"
   ]
  },
  {
   "cell_type": "code",
   "execution_count": null,
   "metadata": {},
   "outputs": [],
   "source": [
    "textPreprocess(df.comment_text[1])\n"
   ]
  },
  {
   "cell_type": "code",
   "execution_count": 14,
   "metadata": {},
   "outputs": [],
   "source": [
    "df['comment_text']=df['comment_text'].apply(lambda x: textPreprocess(x))"
   ]
  },
  {
   "cell_type": "code",
   "execution_count": 15,
   "metadata": {},
   "outputs": [],
   "source": [
    "df=df[df['comment_text']!=\"\"]"
   ]
  },
  {
   "cell_type": "code",
   "execution_count": 16,
   "metadata": {},
   "outputs": [
    {
     "data": {
      "text/plain": [
       "159558"
      ]
     },
     "execution_count": 16,
     "metadata": {},
     "output_type": "execute_result"
    }
   ],
   "source": [
    "len(df)"
   ]
  },
  {
   "cell_type": "code",
   "execution_count": 17,
   "metadata": {},
   "outputs": [],
   "source": [
    "X=['comment_text']\n",
    "y=[\"toxic\",\t\"severe_toxic\",\t\"obscene\",\t\"threat\",\t\"insult\",\t\"identity_hate\"]\n",
    "X = pd.DataFrame(df['comment_text'])\n",
    "Y = df.drop(columns=['comment_text','id'])"
   ]
  },
  {
   "cell_type": "code",
   "execution_count": 18,
   "metadata": {},
   "outputs": [],
   "source": [
    "import pandas as pd\n",
    "import numpy as np\n",
    "\n",
    "from nltk.tokenize import word_tokenize\n",
    "import re\n",
    "import string\n",
    "\n",
    "from sklearn.model_selection import train_test_split\n",
    "\n",
    "import tensorflow as tf"
   ]
  },
  {
   "cell_type": "code",
   "execution_count": 19,
   "metadata": {},
   "outputs": [],
   "source": [
    "def getGloveCorpus(dims=300):\n",
    "    # Set path and load corpus\n",
    "    path = '../data/embedings/'\n",
    "    filename = f'glove.6B.{dims}d.txt'\n",
    "    f = open(path+filename, 'r', encoding='latin2')\n",
    "    vec_txt = f.read()\n",
    "\n",
    "    vec_data = {}\n",
    "    words = vec_txt.split('\\n')\n",
    "    for word in words:\n",
    "        vec = word.split()\n",
    "        if len(vec) == dims+1:\n",
    "            vec_data[vec[0]] = np.array([np.float16(x) for x in vec[1:]])\n",
    "    vec = pd.DataFrame(vec_data, columns=None).transpose()\n",
    "    return vec\n",
    "\n",
    "\n",
    "def getGloveVec(word, vec, dims=300):\n",
    "    vc = np.zeros(dims)\n",
    "    try:\n",
    "        vc = np.array(vec.loc[word])\n",
    "    except:\n",
    "        vc = np.zeros(dims)\n",
    "    return vc\n",
    "\n",
    "\n",
    "def getDocVec(sentence, vec, dims):\n",
    "    tokens = word_tokenize(sentence)\n",
    "    vecs = np.zeros(dims)\n",
    "    for word in tokens:\n",
    "        vecs += getGloveVec(word, vec, dims)\n",
    "    vecs /= len(tokens)\n",
    "    return vecs\n",
    "\n",
    "\n",
    "def encodeClass(Y):\n",
    "    label = []\n",
    "    classes = Y.unique()\n",
    "    for i in Y:\n",
    "        label.append(np.where(classes == i)[0][0])\n",
    "    return label\n",
    "\n",
    "\n",
    "def getVecForm(X, Y, dims, vec, reshaping=None):\n",
    "    '''\n",
    "    X - Array of sentences.\n",
    "    Y - Array of output class (numeric).\n",
    "    dims - Vector dimensions (needed to pad correctly).\n",
    "    '''\n",
    "    vecList = []\n",
    "    for i in X:\n",
    "        vecList.append(getDocVec(i, vec, dims))\n",
    "    X = np.asarray(vecList).astype(np.float16)\n",
    "    Y = np.asarray(Y).astype(np.float16)\n",
    "    if reshaping != None:\n",
    "        X = np.reshape(X, reshaping)\n",
    "    return X, Y\n"
   ]
  },
  {
   "cell_type": "code",
   "execution_count": 20,
   "metadata": {},
   "outputs": [],
   "source": [
    "VEC = getGloveCorpus()"
   ]
  },
  {
   "cell_type": "code",
   "execution_count": 21,
   "metadata": {},
   "outputs": [
    {
     "name": "stderr",
     "output_type": "stream",
     "text": [
      "/var/folders/0s/6jmf4pkj4yd7v5smf85g9mt00000gn/T/ipykernel_50094/2683019980.py:32: RuntimeWarning: invalid value encountered in true_divide\n",
      "  vecs /= len(tokens)\n"
     ]
    }
   ],
   "source": [
    "\n",
    "X_, Y_ = getVecForm(\n",
    "    X = X.comment_text,\n",
    "    Y = Y,\n",
    "    vec = VEC,\n",
    "    dims=300\n",
    ")"
   ]
  },
  {
   "cell_type": "code",
   "execution_count": 22,
   "metadata": {},
   "outputs": [],
   "source": [
    "X_ = np.reshape(X_, (X_.shape[0], 1, X_.shape[1]))\n",
    "x_train, x_test, y_train, y_test = train_test_split(X_, Y_)"
   ]
  },
  {
   "cell_type": "code",
   "execution_count": 23,
   "metadata": {},
   "outputs": [],
   "source": [
    "def simpleLSTM(X):\n",
    "    model = tf.keras.Sequential()\n",
    "    model.add(tf.keras.layers.LSTM(8, input_shape=X.shape[1:]))\n",
    "    model.add(tf.keras.layers.Flatten())\n",
    "    model.add(tf.keras.layers.Dense(32, activation='relu'))\n",
    "    model.add(tf.keras.layers.Dropout(0.2))\n",
    "    model.add(tf.keras.layers.BatchNormalization())\n",
    "    model.add(tf.keras.layers.Dense(6, activation='sigmoid'))\n",
    "\n",
    "    opt = tf.keras.optimizers.Adam(learning_rate=0.0005)\n",
    "    model.compile(loss='binary_crossentropy',\n",
    "                  optimizer=opt, metrics=['accuracy'])\n",
    "    return model"
   ]
  },
  {
   "cell_type": "code",
   "execution_count": 24,
   "metadata": {},
   "outputs": [
    {
     "data": {
      "text/plain": [
       "(1, 300)"
      ]
     },
     "execution_count": 24,
     "metadata": {},
     "output_type": "execute_result"
    }
   ],
   "source": [
    "X_.shape[1:]"
   ]
  },
  {
   "cell_type": "code",
   "execution_count": 25,
   "metadata": {},
   "outputs": [
    {
     "name": "stderr",
     "output_type": "stream",
     "text": [
      "2022-07-07 01:05:51.658445: W tensorflow/core/platform/profile_utils/cpu_utils.cc:128] Failed to get CPU frequency: 0 Hz\n"
     ]
    },
    {
     "name": "stdout",
     "output_type": "stream",
     "text": [
      "Epoch 1/100\n",
      "2805/2805 [==============================] - 6s 2ms/step - loss: nan - accuracy: 0.9850 - val_loss: nan - val_accuracy: 0.9943\n",
      "Epoch 2/100\n",
      "2805/2805 [==============================] - 5s 2ms/step - loss: nan - accuracy: 0.9943 - val_loss: nan - val_accuracy: 0.9943\n",
      "Epoch 3/100\n",
      "2805/2805 [==============================] - 3s 1ms/step - loss: nan - accuracy: 0.9943 - val_loss: nan - val_accuracy: 0.9943\n",
      "Epoch 4/100\n",
      "2805/2805 [==============================] - 3s 1ms/step - loss: nan - accuracy: 0.9943 - val_loss: nan - val_accuracy: 0.9943\n",
      "Epoch 5/100\n",
      "2805/2805 [==============================] - 3s 1ms/step - loss: nan - accuracy: 0.9943 - val_loss: nan - val_accuracy: 0.9943\n",
      "Epoch 6/100\n",
      "2805/2805 [==============================] - 4s 1ms/step - loss: nan - accuracy: 0.9943 - val_loss: nan - val_accuracy: 0.9943\n",
      "Epoch 7/100\n",
      "2805/2805 [==============================] - 3s 1ms/step - loss: nan - accuracy: 0.9943 - val_loss: nan - val_accuracy: 0.9943\n",
      "Epoch 8/100\n",
      "2805/2805 [==============================] - 3s 1ms/step - loss: nan - accuracy: 0.9943 - val_loss: nan - val_accuracy: 0.9943\n",
      "Epoch 9/100\n",
      "2805/2805 [==============================] - 4s 1ms/step - loss: nan - accuracy: 0.9943 - val_loss: nan - val_accuracy: 0.9943\n",
      "Epoch 10/100\n",
      "2805/2805 [==============================] - 4s 1ms/step - loss: nan - accuracy: 0.9943 - val_loss: nan - val_accuracy: 0.9943\n",
      "Epoch 11/100\n",
      "2805/2805 [==============================] - 3s 1ms/step - loss: nan - accuracy: 0.9943 - val_loss: nan - val_accuracy: 0.9943\n",
      "Epoch 12/100\n",
      "2805/2805 [==============================] - 3s 1ms/step - loss: nan - accuracy: 0.9943 - val_loss: nan - val_accuracy: 0.9943\n",
      "Epoch 13/100\n",
      "2805/2805 [==============================] - 4s 1ms/step - loss: nan - accuracy: 0.9943 - val_loss: nan - val_accuracy: 0.9943\n",
      "Epoch 14/100\n",
      "2805/2805 [==============================] - 3s 1ms/step - loss: nan - accuracy: 0.9943 - val_loss: nan - val_accuracy: 0.9943\n",
      "Epoch 15/100\n",
      "2805/2805 [==============================] - 3s 1ms/step - loss: nan - accuracy: 0.9943 - val_loss: nan - val_accuracy: 0.9943\n",
      "Epoch 16/100\n",
      "2805/2805 [==============================] - 3s 1ms/step - loss: nan - accuracy: 0.9943 - val_loss: nan - val_accuracy: 0.9943\n",
      "Epoch 17/100\n",
      "2805/2805 [==============================] - 4s 1ms/step - loss: nan - accuracy: 0.9943 - val_loss: nan - val_accuracy: 0.9943\n",
      "Epoch 18/100\n",
      "2805/2805 [==============================] - 4s 2ms/step - loss: nan - accuracy: 0.9943 - val_loss: nan - val_accuracy: 0.9943\n",
      "Epoch 19/100\n",
      "2805/2805 [==============================] - 4s 1ms/step - loss: nan - accuracy: 0.9943 - val_loss: nan - val_accuracy: 0.9943\n",
      "Epoch 20/100\n",
      "2805/2805 [==============================] - 4s 2ms/step - loss: nan - accuracy: 0.9943 - val_loss: nan - val_accuracy: 0.9943\n",
      "Epoch 21/100\n",
      "2805/2805 [==============================] - 5s 2ms/step - loss: nan - accuracy: 0.9943 - val_loss: nan - val_accuracy: 0.9943\n",
      "Epoch 22/100\n",
      "2805/2805 [==============================] - 5s 2ms/step - loss: nan - accuracy: 0.9943 - val_loss: nan - val_accuracy: 0.9943\n",
      "Epoch 23/100\n",
      "2805/2805 [==============================] - 6s 2ms/step - loss: nan - accuracy: 0.9943 - val_loss: nan - val_accuracy: 0.9943\n",
      "Epoch 24/100\n",
      "2805/2805 [==============================] - 5s 2ms/step - loss: nan - accuracy: 0.9943 - val_loss: nan - val_accuracy: 0.9943\n",
      "Epoch 25/100\n",
      "2805/2805 [==============================] - 5s 2ms/step - loss: nan - accuracy: 0.9943 - val_loss: nan - val_accuracy: 0.9943\n",
      "Epoch 26/100\n",
      "2805/2805 [==============================] - 4s 2ms/step - loss: nan - accuracy: 0.9943 - val_loss: nan - val_accuracy: 0.9943\n",
      "Epoch 27/100\n",
      "2805/2805 [==============================] - 4s 2ms/step - loss: nan - accuracy: 0.9943 - val_loss: nan - val_accuracy: 0.9943\n",
      "Epoch 28/100\n",
      "2805/2805 [==============================] - 4s 2ms/step - loss: nan - accuracy: 0.9943 - val_loss: nan - val_accuracy: 0.9943\n",
      "Epoch 29/100\n",
      "2805/2805 [==============================] - 4s 2ms/step - loss: nan - accuracy: 0.9943 - val_loss: nan - val_accuracy: 0.9943\n",
      "Epoch 30/100\n",
      "2805/2805 [==============================] - 4s 2ms/step - loss: nan - accuracy: 0.9943 - val_loss: nan - val_accuracy: 0.9943\n",
      "Epoch 31/100\n",
      "2805/2805 [==============================] - 5s 2ms/step - loss: nan - accuracy: 0.9943 - val_loss: nan - val_accuracy: 0.9943\n",
      "Epoch 32/100\n",
      "2805/2805 [==============================] - 4s 2ms/step - loss: nan - accuracy: 0.9943 - val_loss: nan - val_accuracy: 0.9943\n",
      "Epoch 33/100\n",
      "2805/2805 [==============================] - 4s 2ms/step - loss: nan - accuracy: 0.9943 - val_loss: nan - val_accuracy: 0.9943\n",
      "Epoch 34/100\n",
      "2805/2805 [==============================] - 4s 2ms/step - loss: nan - accuracy: 0.9943 - val_loss: nan - val_accuracy: 0.9943\n",
      "Epoch 35/100\n",
      "2805/2805 [==============================] - 4s 2ms/step - loss: nan - accuracy: 0.9943 - val_loss: nan - val_accuracy: 0.9943\n",
      "Epoch 36/100\n",
      "2805/2805 [==============================] - 5s 2ms/step - loss: nan - accuracy: 0.9943 - val_loss: nan - val_accuracy: 0.9943\n",
      "Epoch 37/100\n",
      "2805/2805 [==============================] - 4s 1ms/step - loss: nan - accuracy: 0.9943 - val_loss: nan - val_accuracy: 0.9943\n",
      "Epoch 38/100\n",
      "2805/2805 [==============================] - 3s 1ms/step - loss: nan - accuracy: 0.9943 - val_loss: nan - val_accuracy: 0.9943\n",
      "Epoch 39/100\n",
      "2805/2805 [==============================] - 4s 1ms/step - loss: nan - accuracy: 0.9943 - val_loss: nan - val_accuracy: 0.9943\n",
      "Epoch 40/100\n",
      "2805/2805 [==============================] - 3s 1ms/step - loss: nan - accuracy: 0.9943 - val_loss: nan - val_accuracy: 0.9943\n",
      "Epoch 41/100\n",
      "2805/2805 [==============================] - 4s 1ms/step - loss: nan - accuracy: 0.9943 - val_loss: nan - val_accuracy: 0.9943\n",
      "Epoch 42/100\n",
      "2805/2805 [==============================] - 3s 1ms/step - loss: nan - accuracy: 0.9943 - val_loss: nan - val_accuracy: 0.9943\n",
      "Epoch 43/100\n",
      "2805/2805 [==============================] - 3s 1ms/step - loss: nan - accuracy: 0.9943 - val_loss: nan - val_accuracy: 0.9943\n",
      "Epoch 44/100\n",
      "2805/2805 [==============================] - 3s 1ms/step - loss: nan - accuracy: 0.9943 - val_loss: nan - val_accuracy: 0.9943\n",
      "Epoch 45/100\n",
      "2805/2805 [==============================] - 3s 1ms/step - loss: nan - accuracy: 0.9943 - val_loss: nan - val_accuracy: 0.9943\n",
      "Epoch 46/100\n",
      "2805/2805 [==============================] - 3s 1ms/step - loss: nan - accuracy: 0.9943 - val_loss: nan - val_accuracy: 0.9943\n",
      "Epoch 47/100\n",
      "2805/2805 [==============================] - 3s 1ms/step - loss: nan - accuracy: 0.9943 - val_loss: nan - val_accuracy: 0.9943\n",
      "Epoch 48/100\n",
      "2805/2805 [==============================] - 3s 1ms/step - loss: nan - accuracy: 0.9943 - val_loss: nan - val_accuracy: 0.9943\n",
      "Epoch 49/100\n",
      "2805/2805 [==============================] - 3s 1ms/step - loss: nan - accuracy: 0.9943 - val_loss: nan - val_accuracy: 0.9943\n",
      "Epoch 50/100\n",
      "2805/2805 [==============================] - 3s 1ms/step - loss: nan - accuracy: 0.9943 - val_loss: nan - val_accuracy: 0.9943\n",
      "Epoch 51/100\n",
      "2805/2805 [==============================] - 3s 1ms/step - loss: nan - accuracy: 0.9943 - val_loss: nan - val_accuracy: 0.9943\n",
      "Epoch 52/100\n",
      "2805/2805 [==============================] - 3s 1ms/step - loss: nan - accuracy: 0.9943 - val_loss: nan - val_accuracy: 0.9943\n",
      "Epoch 53/100\n",
      "2805/2805 [==============================] - 3s 1ms/step - loss: nan - accuracy: 0.9943 - val_loss: nan - val_accuracy: 0.9943\n",
      "Epoch 54/100\n",
      "2805/2805 [==============================] - 3s 1ms/step - loss: nan - accuracy: 0.9943 - val_loss: nan - val_accuracy: 0.9943\n",
      "Epoch 55/100\n",
      "2805/2805 [==============================] - 3s 1ms/step - loss: nan - accuracy: 0.9943 - val_loss: nan - val_accuracy: 0.9943\n",
      "Epoch 56/100\n",
      "2805/2805 [==============================] - 3s 1ms/step - loss: nan - accuracy: 0.9943 - val_loss: nan - val_accuracy: 0.9943\n",
      "Epoch 57/100\n",
      "2805/2805 [==============================] - 3s 1ms/step - loss: nan - accuracy: 0.9943 - val_loss: nan - val_accuracy: 0.9943\n",
      "Epoch 58/100\n",
      "2805/2805 [==============================] - 3s 1ms/step - loss: nan - accuracy: 0.9943 - val_loss: nan - val_accuracy: 0.9943\n",
      "Epoch 59/100\n",
      "2805/2805 [==============================] - 3s 1ms/step - loss: nan - accuracy: 0.9943 - val_loss: nan - val_accuracy: 0.9943\n",
      "Epoch 60/100\n",
      "2805/2805 [==============================] - 3s 1ms/step - loss: nan - accuracy: 0.9943 - val_loss: nan - val_accuracy: 0.9943\n",
      "Epoch 61/100\n",
      "2805/2805 [==============================] - 3s 1ms/step - loss: nan - accuracy: 0.9943 - val_loss: nan - val_accuracy: 0.9943\n",
      "Epoch 62/100\n",
      "2805/2805 [==============================] - 3s 1ms/step - loss: nan - accuracy: 0.9943 - val_loss: nan - val_accuracy: 0.9943\n",
      "Epoch 63/100\n",
      "2805/2805 [==============================] - 3s 1ms/step - loss: nan - accuracy: 0.9943 - val_loss: nan - val_accuracy: 0.9943\n",
      "Epoch 64/100\n",
      "2805/2805 [==============================] - 3s 1ms/step - loss: nan - accuracy: 0.9943 - val_loss: nan - val_accuracy: 0.9943\n",
      "Epoch 65/100\n",
      "2805/2805 [==============================] - 3s 1ms/step - loss: nan - accuracy: 0.9943 - val_loss: nan - val_accuracy: 0.9943\n",
      "Epoch 66/100\n",
      "2805/2805 [==============================] - 3s 1ms/step - loss: nan - accuracy: 0.9943 - val_loss: nan - val_accuracy: 0.9943\n",
      "Epoch 67/100\n",
      "2805/2805 [==============================] - 3s 1ms/step - loss: nan - accuracy: 0.9943 - val_loss: nan - val_accuracy: 0.9943\n",
      "Epoch 68/100\n",
      "2805/2805 [==============================] - 3s 1ms/step - loss: nan - accuracy: 0.9943 - val_loss: nan - val_accuracy: 0.9943\n",
      "Epoch 69/100\n",
      "2805/2805 [==============================] - 3s 1ms/step - loss: nan - accuracy: 0.9943 - val_loss: nan - val_accuracy: 0.9943\n",
      "Epoch 70/100\n",
      "2805/2805 [==============================] - 3s 1ms/step - loss: nan - accuracy: 0.9943 - val_loss: nan - val_accuracy: 0.9943\n",
      "Epoch 71/100\n",
      "2805/2805 [==============================] - 3s 1ms/step - loss: nan - accuracy: 0.9943 - val_loss: nan - val_accuracy: 0.9943\n",
      "Epoch 72/100\n",
      "2805/2805 [==============================] - 3s 1ms/step - loss: nan - accuracy: 0.9943 - val_loss: nan - val_accuracy: 0.9943\n",
      "Epoch 73/100\n",
      "2805/2805 [==============================] - 3s 1ms/step - loss: nan - accuracy: 0.9943 - val_loss: nan - val_accuracy: 0.9943\n",
      "Epoch 74/100\n",
      "2805/2805 [==============================] - 3s 1ms/step - loss: nan - accuracy: 0.9943 - val_loss: nan - val_accuracy: 0.9943\n",
      "Epoch 75/100\n",
      "2805/2805 [==============================] - 3s 1ms/step - loss: nan - accuracy: 0.9943 - val_loss: nan - val_accuracy: 0.9943\n",
      "Epoch 76/100\n",
      "2805/2805 [==============================] - 3s 1ms/step - loss: nan - accuracy: 0.9943 - val_loss: nan - val_accuracy: 0.9943\n",
      "Epoch 77/100\n",
      "2805/2805 [==============================] - 3s 1ms/step - loss: nan - accuracy: 0.9943 - val_loss: nan - val_accuracy: 0.9943\n",
      "Epoch 78/100\n",
      "2805/2805 [==============================] - 3s 1ms/step - loss: nan - accuracy: 0.9943 - val_loss: nan - val_accuracy: 0.9943\n",
      "Epoch 79/100\n",
      "2805/2805 [==============================] - 3s 1ms/step - loss: nan - accuracy: 0.9943 - val_loss: nan - val_accuracy: 0.9943\n",
      "Epoch 80/100\n",
      "2805/2805 [==============================] - 4s 1ms/step - loss: nan - accuracy: 0.9943 - val_loss: nan - val_accuracy: 0.9943\n",
      "Epoch 81/100\n",
      "2805/2805 [==============================] - 3s 1ms/step - loss: nan - accuracy: 0.9943 - val_loss: nan - val_accuracy: 0.9943\n",
      "Epoch 82/100\n",
      "2805/2805 [==============================] - 3s 1ms/step - loss: nan - accuracy: 0.9943 - val_loss: nan - val_accuracy: 0.9943\n",
      "Epoch 83/100\n",
      "2805/2805 [==============================] - 3s 1ms/step - loss: nan - accuracy: 0.9943 - val_loss: nan - val_accuracy: 0.9943\n",
      "Epoch 84/100\n",
      "2805/2805 [==============================] - 3s 1ms/step - loss: nan - accuracy: 0.9943 - val_loss: nan - val_accuracy: 0.9943\n",
      "Epoch 85/100\n",
      "2805/2805 [==============================] - 3s 1ms/step - loss: nan - accuracy: 0.9943 - val_loss: nan - val_accuracy: 0.9943\n",
      "Epoch 86/100\n",
      "2805/2805 [==============================] - 3s 1ms/step - loss: nan - accuracy: 0.9943 - val_loss: nan - val_accuracy: 0.9943\n",
      "Epoch 87/100\n",
      "2805/2805 [==============================] - 4s 1ms/step - loss: nan - accuracy: 0.9943 - val_loss: nan - val_accuracy: 0.9943\n",
      "Epoch 88/100\n",
      "2805/2805 [==============================] - 3s 1ms/step - loss: nan - accuracy: 0.9943 - val_loss: nan - val_accuracy: 0.9943\n",
      "Epoch 89/100\n",
      "2805/2805 [==============================] - 3s 1ms/step - loss: nan - accuracy: 0.9943 - val_loss: nan - val_accuracy: 0.9943\n",
      "Epoch 90/100\n",
      "2805/2805 [==============================] - 3s 1ms/step - loss: nan - accuracy: 0.9943 - val_loss: nan - val_accuracy: 0.9943\n",
      "Epoch 91/100\n",
      "2805/2805 [==============================] - 3s 1ms/step - loss: nan - accuracy: 0.9943 - val_loss: nan - val_accuracy: 0.9943\n",
      "Epoch 92/100\n",
      "2805/2805 [==============================] - 3s 1ms/step - loss: nan - accuracy: 0.9943 - val_loss: nan - val_accuracy: 0.9943\n",
      "Epoch 93/100\n",
      "2805/2805 [==============================] - 3s 1ms/step - loss: nan - accuracy: 0.9943 - val_loss: nan - val_accuracy: 0.9943\n",
      "Epoch 94/100\n",
      "2805/2805 [==============================] - 3s 1ms/step - loss: nan - accuracy: 0.9943 - val_loss: nan - val_accuracy: 0.9943\n",
      "Epoch 95/100\n",
      "2805/2805 [==============================] - 3s 1ms/step - loss: nan - accuracy: 0.9943 - val_loss: nan - val_accuracy: 0.9943\n",
      "Epoch 96/100\n",
      "2805/2805 [==============================] - 3s 1ms/step - loss: nan - accuracy: 0.9943 - val_loss: nan - val_accuracy: 0.9943\n",
      "Epoch 97/100\n",
      "2805/2805 [==============================] - 4s 1ms/step - loss: nan - accuracy: 0.9943 - val_loss: nan - val_accuracy: 0.9943\n",
      "Epoch 98/100\n",
      "2805/2805 [==============================] - 3s 1ms/step - loss: nan - accuracy: 0.9943 - val_loss: nan - val_accuracy: 0.9943\n",
      "Epoch 99/100\n",
      "2805/2805 [==============================] - 4s 1ms/step - loss: nan - accuracy: 0.9943 - val_loss: nan - val_accuracy: 0.9943\n",
      "Epoch 100/100\n",
      "2805/2805 [==============================] - 4s 1ms/step - loss: nan - accuracy: 0.9943 - val_loss: nan - val_accuracy: 0.9943\n"
     ]
    },
    {
     "data": {
      "text/plain": [
       "<keras.callbacks.History at 0x2efe21330>"
      ]
     },
     "execution_count": 25,
     "metadata": {},
     "output_type": "execute_result"
    }
   ],
   "source": [
    "lstms = simpleLSTM(X_)\n",
    "SPLIT = 0.25\n",
    "EPOCH = 100\n",
    "lstms.fit(x_train, y_train, validation_split=SPLIT, epochs=EPOCH)"
   ]
  },
  {
   "cell_type": "code",
   "execution_count": 26,
   "metadata": {},
   "outputs": [
    {
     "name": "stdout",
     "output_type": "stream",
     "text": [
      "1247/1247 [==============================] - 1s 485us/step - loss: nan - accuracy: 0.9939\n"
     ]
    },
    {
     "data": {
      "text/plain": [
       "[nan, 0.9938831925392151]"
      ]
     },
     "execution_count": 26,
     "metadata": {},
     "output_type": "execute_result"
    }
   ],
   "source": [
    "lstms.evaluate(x_test, y_test)"
   ]
  },
  {
   "cell_type": "code",
   "execution_count": 27,
   "metadata": {},
   "outputs": [],
   "source": [
    "lstms.save(\"../model/lstmModel.h5\")"
   ]
  },
  {
   "cell_type": "code",
   "execution_count": 28,
   "metadata": {},
   "outputs": [
    {
     "data": {
      "text/plain": [
       "array([[nan, nan, nan, nan, nan, nan]], dtype=float32)"
      ]
     },
     "execution_count": 28,
     "metadata": {},
     "output_type": "execute_result"
    }
   ],
   "source": [
    "\n",
    "lol = getDocVec(textPreprocess(\"This is a hate speech example \"), VEC, 300)\n",
    "\n",
    "lol = np.reshape([lol],(1,1,300))\n",
    "\n",
    "lstms.predict(lol)\n"
   ]
  },
  {
   "cell_type": "code",
   "execution_count": null,
   "metadata": {},
   "outputs": [],
   "source": []
  },
  {
   "cell_type": "code",
   "execution_count": null,
   "metadata": {},
   "outputs": [],
   "source": []
  }
 ],
 "metadata": {
  "kernelspec": {
   "display_name": "Python 3.10.4 ('nlp')",
   "language": "python",
   "name": "python3"
  },
  "language_info": {
   "codemirror_mode": {
    "name": "ipython",
    "version": 3
   },
   "file_extension": ".py",
   "mimetype": "text/x-python",
   "name": "python",
   "nbconvert_exporter": "python",
   "pygments_lexer": "ipython3",
   "version": "3.10.4"
  },
  "orig_nbformat": 4,
  "vscode": {
   "interpreter": {
    "hash": "331a24a01f83adadd46afead2dc489e28f6af802c207fc8776f5eca2295cb1f5"
   }
  }
 },
 "nbformat": 4,
 "nbformat_minor": 2
}
